{
 "cells": [
  {
   "cell_type": "code",
   "execution_count": null,
   "id": "12ea2c09",
   "metadata": {
    "id": "12ea2c09"
   },
   "outputs": [],
   "source": [
    "import numpy as np\n",
    "import pandas as pd\n",
    "import matplotlib.pyplot as plt\n",
    "import seaborn as sns\n",
    "from datetime import datetime\n",
    "from scipy.stats import ttest_ind as ttest\n",
    "import scipy.stats"
   ]
  },
  {
   "cell_type": "markdown",
   "id": "30c96a9a",
   "metadata": {
    "id": "30c96a9a"
   },
   "source": [
    "#### Checking the shape of data frame"
   ]
  },
  {
   "cell_type": "code",
   "execution_count": null,
   "id": "e073c878",
   "metadata": {
    "colab": {
     "base_uri": "https://localhost:8080/"
    },
    "id": "e073c878",
    "outputId": "d7611575-4b96-4d34-9080-9174cf5503f8"
   },
   "outputs": [],
   "source": [
    "df.shape"
   ]
  },
  {
   "cell_type": "code",
   "execution_count": null,
   "id": "27590172",
   "metadata": {
    "colab": {
     "base_uri": "https://localhost:8080/"
    },
    "id": "27590172",
    "outputId": "4ad3fa46-4fc6-46bf-9dab-30ce2f151f9b"
   },
   "outputs": [],
   "source": [
    "df.info()"
   ]
  },
  {
   "cell_type": "markdown",
   "id": "b110b5ee",
   "metadata": {
    "id": "b110b5ee"
   },
   "source": [
    "#### Checking the null values"
   ]
  },
  {
   "cell_type": "code",
   "execution_count": null,
   "id": "3b673bf8",
   "metadata": {
    "colab": {
     "base_uri": "https://localhost:8080/"
    },
    "id": "3b673bf8",
    "outputId": "63213431-4e52-4624-9e22-4edec837a784"
   },
   "outputs": [],
   "source": [
    "df.isnull().sum()"
   ]
  },
  {
   "cell_type": "markdown",
   "id": "2474f584",
   "metadata": {
    "id": "2474f584"
   },
   "source": [
    "#### Removing Null values"
   ]
  },
  {
   "cell_type": "code",
   "execution_count": null,
   "id": "beb6d7ab",
   "metadata": {
    "id": "beb6d7ab"
   },
   "outputs": [],
   "source": [
    "df = df.dropna(how='any')\n",
    "df = df.reset_index(drop=True)"
   ]
  },
  {
   "cell_type": "code",
   "execution_count": null,
   "id": "85faac63",
   "metadata": {
    "colab": {
     "base_uri": "https://localhost:8080/",
     "height": 364
    },
    "id": "85faac63",
    "outputId": "754337e3-117d-4737-c70e-bfaf0fda75c2"
   },
   "outputs": [],
   "source": [
    "df.describe()"
   ]
  },
  {
   "cell_type": "markdown",
   "id": "3888366f",
   "metadata": {
    "id": "3888366f"
   },
   "source": [
    "### Merging rows on the basis of Trip ID, Source ID, Destination ID"
   ]
  },
  {
   "cell_type": "code",
   "execution_count": null,
   "id": "3cd30ceb",
   "metadata": {
    "id": "3cd30ceb"
   },
   "outputs": [],
   "source": [
    "df_new_tsd = df.groupby(['trip_uuid','source_center','destination_center']).aggregate(\n",
    "    {\n",
    "        'trip_creation_time':'last',\n",
    "        'source_name':'first',\n",
    "        'destination_name':'first',\n",
    "        'od_start_time':'first',\n",
    "        'od_end_time':'first',\n",
    "        'start_scan_to_end_scan':'first',\n",
    "        'actual_distance_to_destination':'max',\n",
    "        'actual_time':'max','osrm_time':'max',\n",
    "        'osrm_distance':'max',\n",
    "        'segment_actual_time':'sum',\n",
    "        'segment_osrm_time':'sum',\n",
    "        'segment_osrm_distance':'sum'})"
   ]
  },
  {
   "cell_type": "code",
   "execution_count": null,
   "id": "89c400b2",
   "metadata": {
    "id": "89c400b2"
   },
   "outputs": [],
   "source": [
    "df_new_tsd.reset_index(inplace=True)"
   ]
  },
  {
   "cell_type": "code",
   "execution_count": null,
   "id": "4f3deff5",
   "metadata": {
    "colab": {
     "base_uri": "https://localhost:8080/"
    },
    "id": "4f3deff5",
    "outputId": "5748e209-fd9e-46c8-8607-b7a436cecd77"
   },
   "outputs": [],
   "source": [
    "df_new_tsd.info()"
   ]
  },
  {
   "cell_type": "code",
   "execution_count": null,
   "id": "d7baf816",
   "metadata": {
    "colab": {
     "base_uri": "https://localhost:8080/"
    },
    "id": "d7baf816",
    "outputId": "942d0f87-6f06-457a-d571-3501778cc202"
   },
   "outputs": [],
   "source": [
    "df_new_tsd.isnull().sum()"
   ]
  },
  {
   "cell_type": "markdown",
   "id": "9d5c320c",
   "metadata": {
    "id": "9d5c320c"
   },
   "source": [
    "#### Calculating Trip duration from start time and end time"
   ]
  },
  {
   "cell_type": "code",
   "execution_count": null,
   "id": "8412b270",
   "metadata": {
    "id": "8412b270"
   },
   "outputs": [],
   "source": [
    "df_new_tsd['Trip start'] = [datetime.strptime(x,\"%Y-%m-%d %H:%M:%S.%f\") for x in df_new_tsd['od_start_time']]\n",
    "df_new_tsd['Trip end'] = [datetime.strptime(x,\"%Y-%m-%d %H:%M:%S.%f\") for x in df_new_tsd['od_end_time']]"
   ]
  },
  {
   "cell_type": "code",
   "execution_count": null,
   "id": "eec856cd",
   "metadata": {
    "id": "eec856cd"
   },
   "outputs": [],
   "source": [
    "df_new_tsd['Trip duration'] = df_new_tsd['Trip end'] - df_new_tsd['Trip start']"
   ]
  },
  {
   "cell_type": "code",
   "execution_count": null,
   "id": "7744f258",
   "metadata": {
    "id": "7744f258"
   },
   "outputs": [],
   "source": [
    "df_new_tsd['Trip duration'] = [x.total_seconds()/60 for x in df_new_tsd['Trip duration']]"
   ]
  },
  {
   "cell_type": "code",
   "execution_count": null,
   "id": "aec3313e",
   "metadata": {
    "id": "aec3313e"
   },
   "outputs": [],
   "source": [
    "df_new_tsd = df_new_tsd.reset_index()"
   ]
  },
  {
   "cell_type": "markdown",
   "id": "88079152",
   "metadata": {
    "id": "88079152"
   },
   "source": [
    "### Merging the rows based on Trip ID"
   ]
  },
  {
   "cell_type": "code",
   "execution_count": null,
   "id": "b6f92876",
   "metadata": {
    "id": "b6f92876"
   },
   "outputs": [],
   "source": [
    "df_new = df_new_tsd.groupby('trip_uuid').aggregate(\n",
    "    {\n",
    "        'source_center':'last',\n",
    "        'destination_center':'first',\n",
    "        'trip_creation_time':'first',\n",
    "        'source_name':'last',\n",
    "        'destination_name':'first',\n",
    "        'Trip duration':'sum',\n",
    "        'start_scan_to_end_scan':'sum',\n",
    "        'actual_distance_to_destination':'sum',\n",
    "        'actual_time':'sum',\n",
    "        'osrm_time':'sum',\n",
    "        'osrm_distance':'sum',\n",
    "        'segment_actual_time':'sum',\n",
    "        'segment_osrm_time':'sum',\n",
    "        'segment_osrm_distance':'sum'})"
   ]
  },
  {
   "cell_type": "code",
   "execution_count": null,
   "id": "cbc5a740",
   "metadata": {
    "id": "cbc5a740"
   },
   "outputs": [],
   "source": [
    "df_new.reset_index(inplace=True)"
   ]
  },
  {
   "cell_type": "markdown",
   "id": "3e1c4683",
   "metadata": {
    "id": "3e1c4683"
   },
   "source": [
    "### Extracting State and City from source and destination"
   ]
  },
  {
   "cell_type": "code",
   "execution_count": null,
   "id": "22ad5616",
   "metadata": {
    "id": "22ad5616"
   },
   "outputs": [],
   "source": [
    "def ext(x):\n",
    "    return x.split('(')[1][:-1]"
   ]
  },
  {
   "cell_type": "code",
   "execution_count": null,
   "id": "0ba1119e",
   "metadata": {
    "id": "0ba1119e"
   },
   "outputs": [],
   "source": [
    "df_new['source state'] = df_new['source_name'].transform(ext)\n",
    "df_new['destination state'] = df_new['destination_name'].transform(ext)"
   ]
  },
  {
   "cell_type": "code",
   "execution_count": null,
   "id": "202d5298",
   "metadata": {
    "id": "202d5298"
   },
   "outputs": [],
   "source": [
    "def ext2(x):\n",
    "    if '_' in x:\n",
    "        return x.split('_')[0]\n",
    "    else:\n",
    "        return x.split(' ')[0]"
   ]
  },
  {
   "cell_type": "code",
   "execution_count": null,
   "id": "0f5f81f6",
   "metadata": {
    "id": "0f5f81f6"
   },
   "outputs": [],
   "source": [
    "df_new['source city'] = df_new['source_name'].transform(ext2)\n",
    "df_new['destination city'] = df_new['destination_name'].transform(ext2)"
   ]
  },
  {
   "cell_type": "code",
   "execution_count": null,
   "id": "de929184",
   "metadata": {
    "id": "de929184"
   },
   "outputs": [],
   "source": [
    "df_new['source city'].replace('FBD','Faridabad',inplace=True)"
   ]
  },
  {
   "cell_type": "markdown",
   "id": "e5bb105b",
   "metadata": {
    "id": "e5bb105b"
   },
   "source": [
    "### Converting Trip creation time to datetime"
   ]
  },
  {
   "cell_type": "code",
   "execution_count": null,
   "id": "2ae23f9e",
   "metadata": {
    "id": "2ae23f9e"
   },
   "outputs": [],
   "source": [
    "df_new['trip creation time'] = pd.to_datetime(df_new['trip_creation_time'])"
   ]
  },
  {
   "cell_type": "code",
   "execution_count": null,
   "id": "d9f94331",
   "metadata": {
    "id": "d9f94331"
   },
   "outputs": [],
   "source": [
    "df_new.drop(['trip_creation_time'],axis=1,inplace=True)"
   ]
  },
  {
   "cell_type": "code",
   "execution_count": null,
   "id": "92673e75",
   "metadata": {
    "colab": {
     "base_uri": "https://localhost:8080/"
    },
    "id": "92673e75",
    "outputId": "80a42376-fa85-4dfe-9d11-1e1fefb97472"
   },
   "outputs": [],
   "source": [
    "df_new.info()"
   ]
  },
  {
   "cell_type": "markdown",
   "id": "dee8b3a7",
   "metadata": {
    "id": "dee8b3a7"
   },
   "source": [
    "#### Extracting Year, Month and Day from Trip creation time"
   ]
  },
  {
   "cell_type": "code",
   "execution_count": null,
   "id": "54e962e0",
   "metadata": {
    "id": "54e962e0"
   },
   "outputs": [],
   "source": [
    "df_new['Trip creation year'] = df_new['trip creation time'].dt.year\n",
    "df_new['Trip creation month'] = df_new['trip creation time'].dt.month\n",
    "df_new['Trip creation day'] = df_new['trip creation time'].dt.day"
   ]
  },
  {
   "cell_type": "code",
   "execution_count": null,
   "id": "56167832",
   "metadata": {
    "colab": {
     "base_uri": "https://localhost:8080/"
    },
    "id": "56167832",
    "outputId": "c9de384c-45fb-44ba-88f7-acdfe46b342c"
   },
   "outputs": [],
   "source": [
    "df_new.info()"
   ]
  },
  {
   "cell_type": "markdown",
   "id": "73552888",
   "metadata": {
    "id": "73552888"
   },
   "source": [
    "# Conducting hypotheses testing"
   ]
  },
  {
   "cell_type": "markdown",
   "id": "af7d57da",
   "metadata": {
    "id": "af7d57da"
   },
   "source": [
    "## Trip duration and  start scan to end scan"
   ]
  },
  {
   "cell_type": "markdown",
   "id": "f7c7f9c8",
   "metadata": {
    "id": "f7c7f9c8"
   },
   "source": [
    "Null Hypotheses, Ho: Trip duration is equal to start scan to end scan.\n",
    "\n",
    "Alternate Hypotheses, Ha: Trip duration is not equal to start scan to end scan\n",
    "\n",
    "Significance level: 0.05"
   ]
  },
  {
   "cell_type": "code",
   "execution_count": null,
   "id": "82e33417",
   "metadata": {
    "colab": {
     "base_uri": "https://localhost:8080/"
    },
    "id": "82e33417",
    "outputId": "33c9eb30-5f0e-43bb-eab3-e0981aab673f"
   },
   "outputs": [],
   "source": [
    "test_stats, p_val = ttest(df_new['Trip duration'],df_new['start_scan_to_end_scan'],equal_var=False,alternative='two-sided')\n",
    "\n",
    "critical_value = scipy.stats.t.ppf(0.95,df=14817)\n",
    "\n",
    "print('Test statistic: ',test_stats)\n",
    "print('P-value: ',p_val)\n",
    "print('Critical value: ',critical_value)\n",
    "print(\"\\n\")\n",
    "if test_stats < critical_value:\n",
    "    print(\"Fail to reject Null hypotheses\")\n",
    "else:\n",
    "    print('Reject Null hypotheses')"
   ]
  },
  {
   "cell_type": "markdown",
   "id": "cdb0aff4",
   "metadata": {
    "id": "cdb0aff4"
   },
   "source": [
    "#### Hence trip duration is equal to start scan to end scan"
   ]
  },
  {
   "cell_type": "markdown",
   "id": "1336f7ab",
   "metadata": {
    "id": "1336f7ab"
   },
   "source": [
    "## Actual time and OSRM time"
   ]
  },
  {
   "cell_type": "markdown",
   "id": "68b7eae8",
   "metadata": {
    "id": "68b7eae8"
   },
   "source": [
    "Null Hypotheses, Ho: Actual time is equal to osrm time.\n",
    "\n",
    "Alternate Hypotheses, Ha: Actual time is not equal to osrm time.\n",
    "\n",
    "Significance level: 0.05"
   ]
  },
  {
   "cell_type": "code",
   "execution_count": null,
   "id": "062a03a3",
   "metadata": {
    "colab": {
     "base_uri": "https://localhost:8080/"
    },
    "id": "062a03a3",
    "outputId": "ec600d00-b2c6-4249-e315-0d58f2d03cc7"
   },
   "outputs": [],
   "source": [
    "test_stats, p_val = ttest(df_new['actual_time'],df_new['osrm_time'],equal_var=False,alternative='two-sided')\n",
    "\n",
    "critical_value = scipy.stats.t.ppf(0.95,df=14817)\n",
    "\n",
    "print('Test statistic: ',test_stats)\n",
    "print('P-value: ',p_val)\n",
    "print('Critical value: ',critical_value)\n",
    "print(\"\\n\")\n",
    "if test_stats < critical_value:\n",
    "    print(\"Fail to reject Null hypotheses\")\n",
    "else:\n",
    "    print('Reject Null hypotheses')"
   ]
  },
  {
   "cell_type": "markdown",
   "id": "2cedb6a1",
   "metadata": {
    "id": "2cedb6a1"
   },
   "source": [
    "#### Hence actual time is not equal to osrm time"
   ]
  },
  {
   "cell_type": "markdown",
   "id": "74a39cca",
   "metadata": {
    "id": "74a39cca"
   },
   "source": [
    "## Actual time and segment actual time"
   ]
  },
  {
   "cell_type": "markdown",
   "id": "e5e34174",
   "metadata": {
    "id": "e5e34174"
   },
   "source": [
    "Null Hypotheses, Ho: Actual time is equal to segment actual time.\n",
    "\n",
    "Alternate Hypotheses, Ha: Actual time is not equal to segment acutal time.\n",
    "\n",
    "Significance level: 0.05"
   ]
  },
  {
   "cell_type": "code",
   "execution_count": null,
   "id": "832fab30",
   "metadata": {
    "colab": {
     "base_uri": "https://localhost:8080/"
    },
    "id": "832fab30",
    "outputId": "ea0b65e0-f56b-4234-b044-54c9c2f2de78"
   },
   "outputs": [],
   "source": [
    "test_stats, p_val = ttest(df_new['actual_time'],df_new['segment_actual_time'],equal_var=False,alternative='two-sided')\n",
    "\n",
    "critical_value = scipy.stats.t.ppf(0.95,df=14817)\n",
    "\n",
    "print('Test statistic: ',test_stats)\n",
    "print('P-value: ',p_val)\n",
    "print('Critical value: ',critical_value)\n",
    "print(\"\\n\")\n",
    "if test_stats < critical_value:\n",
    "    print(\"Fail to reject Null hypotheses\")\n",
    "else:\n",
    "    print('Reject Null hypotheses')"
   ]
  },
  {
   "cell_type": "markdown",
   "id": "df5d8b4b",
   "metadata": {
    "id": "df5d8b4b"
   },
   "source": [
    "#### Hence actual time is equal to segment actual time"
   ]
  },
  {
   "cell_type": "markdown",
   "id": "41b3abbe",
   "metadata": {
    "id": "41b3abbe"
   },
   "source": [
    "## Osrm distance and segment osrm distance"
   ]
  },
  {
   "cell_type": "markdown",
   "id": "baa57080",
   "metadata": {
    "id": "baa57080"
   },
   "source": [
    "Null Hypotheses, Ho: Osrm distance is equal to segment osrm distance.\n",
    "\n",
    "Alternate Hypotheses, Ha: Osrm distance is not equal to segment osrm distance.\n",
    "\n",
    "Significance level: 0.05"
   ]
  },
  {
   "cell_type": "code",
   "execution_count": null,
   "id": "2d056931",
   "metadata": {
    "colab": {
     "base_uri": "https://localhost:8080/"
    },
    "id": "2d056931",
    "outputId": "9342f5af-1f4f-4ea3-a21d-906bca0783b6"
   },
   "outputs": [],
   "source": [
    "test_stats, p_val = ttest(df_new['osrm_distance'],df_new['segment_osrm_distance'],equal_var=False,alternative='two-sided')\n",
    "\n",
    "critical_value = scipy.stats.t.ppf(0.95,df=14817)\n",
    "\n",
    "print('Test statistic: ',test_stats)\n",
    "print('P-value: ',p_val)\n",
    "print('Critical value: ',critical_value)\n",
    "print(\"\\n\")\n",
    "if test_stats < critical_value:\n",
    "    print(\"Fail to reject Null hypotheses\")\n",
    "else:\n",
    "    print('Reject Null hypotheses')"
   ]
  },
  {
   "cell_type": "markdown",
   "id": "e9af0233",
   "metadata": {
    "id": "e9af0233"
   },
   "source": [
    "#### Hence osrm distance is equal to segment osrm distance"
   ]
  },
  {
   "cell_type": "markdown",
   "id": "8b253b9d",
   "metadata": {
    "id": "8b253b9d"
   },
   "source": [
    "## Osrm time and segment osrm time"
   ]
  },
  {
   "cell_type": "markdown",
   "id": "93a6ee32",
   "metadata": {
    "id": "93a6ee32"
   },
   "source": [
    "Null Hypotheses, Ho: Osrm time is equal to segment osrm time.\n",
    "\n",
    "Alternate Hypotheses, Ha: Osrm time is not equal to segment osrm time.\n",
    "\n",
    "Significance level: 0.05"
   ]
  },
  {
   "cell_type": "code",
   "execution_count": null,
   "id": "217a89ee",
   "metadata": {
    "colab": {
     "base_uri": "https://localhost:8080/"
    },
    "id": "217a89ee",
    "outputId": "fd4e27cb-adc9-4439-e6d7-3dd1cff53f3f"
   },
   "outputs": [],
   "source": [
    "test_stats, p_val = ttest(df_new['osrm_time'],df_new['segment_osrm_time'],equal_var=False,alternative='two-sided')\n",
    "\n",
    "critical_value = scipy.stats.t.ppf(0.95,df=14817)\n",
    "\n",
    "print('Test statistic: ',test_stats)\n",
    "print('P-value: ',p_val)\n",
    "print('Critical value: ',critical_value)\n",
    "print(\"\\n\")\n",
    "if test_stats < critical_value:\n",
    "    print(\"Fail to reject Null hypotheses\")\n",
    "else:\n",
    "    print('Reject Null hypotheses')"
   ]
  },
  {
   "cell_type": "markdown",
   "id": "7dbd6d0b",
   "metadata": {
    "id": "7dbd6d0b"
   },
   "source": [
    "#### Hence osrm time is equal to segment osrm time"
   ]
  },
  {
   "cell_type": "markdown",
   "id": "1490c6cf",
   "metadata": {
    "id": "1490c6cf"
   },
   "source": [
    "# Outliers"
   ]
  },
  {
   "cell_type": "code",
   "execution_count": null,
   "id": "1a794402",
   "metadata": {
    "id": "1a794402"
   },
   "outputs": [],
   "source": [
    "num_cols = ['start_scan_to_end_scan', 'actual_distance_to_destination', 'actual_time', 'osrm_time',\n",
    "            'osrm_distance', 'segment_actual_time', 'segment_osrm_distance',\n",
    "            'segment_osrm_time','Trip duration']"
   ]
  },
  {
   "cell_type": "code",
   "execution_count": null,
   "id": "24776bdb",
   "metadata": {
    "colab": {
     "base_uri": "https://localhost:8080/",
     "height": 610
    },
    "id": "24776bdb",
    "outputId": "b577285a-fc70-4fa4-b73e-487382eba00d"
   },
   "outputs": [],
   "source": [
    "df_new[num_cols].boxplot(rot=25, figsize=(25,8))\n",
    "plt.show()"
   ]
  },
  {
   "cell_type": "markdown",
   "id": "10efca36",
   "metadata": {
    "id": "10efca36"
   },
   "source": [
    "### Handling the outliers using IQR method."
   ]
  },
  {
   "cell_type": "code",
   "execution_count": null,
   "id": "4b2b2ce9",
   "metadata": {
    "colab": {
     "base_uri": "https://localhost:8080/",
     "height": 539
    },
    "id": "4b2b2ce9",
    "outputId": "c28974b3-c416-4767-f215-6ae00ad41cb8"
   },
   "outputs": [],
   "source": [
    "Q1 = df_new[num_cols].quantile(0.25)\n",
    "Q3 = df_new[num_cols].quantile(0.75)\n",
    "IQR = Q3-Q1\n",
    "\n",
    "df_new = df_new[~((df_new[num_cols] < (Q1 - 1.5 * IQR)) | (df_new[num_cols] > (Q3 + 1.5 * IQR))).any(axis=1)]\n",
    "df_new = df_new.reset_index(drop=True)\n",
    "\n",
    "df_new[num_cols].boxplot(rot=0,figsize=(25,8))\n",
    "plt.show()"
   ]
  },
  {
   "cell_type": "markdown",
   "id": "428c6941",
   "metadata": {
    "id": "428c6941"
   },
   "source": [
    "# One hot encoding"
   ]
  },
  {
   "cell_type": "code",
   "execution_count": null,
   "id": "869ffe73",
   "metadata": {
    "id": "869ffe73"
   },
   "outputs": [],
   "source": [
    "r = df.groupby('trip_uuid')['route_type'].first().to_frame().reset_index()"
   ]
  },
  {
   "cell_type": "code",
   "execution_count": null,
   "id": "334fa087",
   "metadata": {
    "id": "334fa087"
   },
   "outputs": [],
   "source": [
    "df_new = df_new.merge(r,how='left',on='trip_uuid')"
   ]
  },
  {
   "cell_type": "code",
   "execution_count": null,
   "id": "10bac4a4",
   "metadata": {
    "colab": {
     "base_uri": "https://localhost:8080/",
     "height": 423
    },
    "id": "10bac4a4",
    "outputId": "7b2eef18-38ba-4125-ba40-f3a5177f9279"
   },
   "outputs": [],
   "source": [
    "pd.concat([df_new['route_type'], pd.get_dummies(df_new['route_type'])], axis=1)"
   ]
  },
  {
   "cell_type": "code",
   "execution_count": null,
   "id": "83438b1d",
   "metadata": {
    "colab": {
     "base_uri": "https://localhost:8080/",
     "height": 423
    },
    "id": "83438b1d",
    "outputId": "62115759-8dea-45d2-d684-12dafc723d9a"
   },
   "outputs": [],
   "source": [
    "y = pd.get_dummies(df_new['route_type'], drop_first=True, prefix='route_type')\n",
    "y"
   ]
  },
  {
   "cell_type": "code",
   "execution_count": null,
   "id": "c2be58fd",
   "metadata": {
    "id": "c2be58fd"
   },
   "outputs": [],
   "source": [
    "df_new = pd.concat([df_new,y],axis=1)"
   ]
  },
  {
   "cell_type": "code",
   "execution_count": null,
   "id": "LZ6y2dxglJ6P",
   "metadata": {
    "colab": {
     "base_uri": "https://localhost:8080/"
    },
    "id": "LZ6y2dxglJ6P",
    "outputId": "ee2d05bc-9c80-41a3-c2c9-55cbf9193458"
   },
   "outputs": [],
   "source": [
    "df_new.info()"
   ]
  },
  {
   "cell_type": "markdown",
   "id": "363cf29b",
   "metadata": {
    "id": "363cf29b"
   },
   "source": [
    "# Scaling"
   ]
  },
  {
   "cell_type": "code",
   "execution_count": null,
   "id": "6483da60",
   "metadata": {
    "colab": {
     "base_uri": "https://localhost:8080/",
     "height": 423
    },
    "id": "6483da60",
    "outputId": "b28968bf-50b2-443e-c588-62cd23e48271"
   },
   "outputs": [],
   "source": [
    "from sklearn.preprocessing import MinMaxScaler\n",
    "scaler = MinMaxScaler()\n",
    "scaler.fit(df_new[num_cols])\n",
    "df_new[num_cols] = scaler.transform(df_new[num_cols])\n",
    "df_new[num_cols]"
   ]
  }
 ],
 "metadata": {
  "colab": {
   "provenance": []
  },
  "kernelspec": {
   "display_name": "Python 3 (ipykernel)",
   "language": "python",
   "name": "python3"
  },
  "language_info": {
   "codemirror_mode": {
    "name": "ipython",
    "version": 3
   },
   "file_extension": ".py",
   "mimetype": "text/x-python",
   "name": "python",
   "nbconvert_exporter": "python",
   "pygments_lexer": "ipython3",
   "version": "3.11.1"
  }
 },
 "nbformat": 4,
 "nbformat_minor": 5
}
