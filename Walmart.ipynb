{
 "cells": [
  {
   "cell_type": "code",
   "execution_count": null,
   "metadata": {
    "id": "7lzFXy_e4wnT"
   },
   "outputs": [],
   "source": [
    "import numpy as np\n",
    "import pandas as pd\n",
    "import matplotlib.pyplot as plt\n",
    "import seaborn as sns\n",
    "import scipy.stats"
   ]
  },
  {
   "cell_type": "markdown",
   "metadata": {
    "id": "loQDbC6RRQY7"
   },
   "source": [
    "Checking the shape of Data"
   ]
  },
  {
   "cell_type": "code",
   "execution_count": null,
   "metadata": {
    "colab": {
     "base_uri": "https://localhost:8080/"
    },
    "id": "Y_-6QC8f613J",
    "outputId": "df1561f8-aa57-4bac-9a83-e1e0abe20e20"
   },
   "outputs": [],
   "source": [
    "df.shape"
   ]
  },
  {
   "cell_type": "code",
   "execution_count": null,
   "metadata": {
    "colab": {
     "base_uri": "https://localhost:8080/"
    },
    "id": "TweQDKzD67rC",
    "outputId": "e73e4e70-493b-4ea4-df55-e4694688b61f"
   },
   "outputs": [],
   "source": [
    "df.info()"
   ]
  },
  {
   "cell_type": "code",
   "execution_count": null,
   "metadata": {
    "colab": {
     "base_uri": "https://localhost:8080/",
     "height": 300
    },
    "id": "ZNYvnm4A7qf8",
    "outputId": "52bb9c3a-22c8-4417-ce7b-933ca4cfdc46"
   },
   "outputs": [],
   "source": [
    "df.describe()"
   ]
  },
  {
   "cell_type": "markdown",
   "metadata": {
    "id": "ud9dBR2xRvcW"
   },
   "source": [
    "Checking Null values"
   ]
  },
  {
   "cell_type": "code",
   "execution_count": null,
   "metadata": {
    "colab": {
     "base_uri": "https://localhost:8080/"
    },
    "id": "xEH2rqdk72Ro",
    "outputId": "f32fab8c-c5b3-41b1-9384-0a9cdd79e224"
   },
   "outputs": [],
   "source": [
    "df.isnull().sum()"
   ]
  },
  {
   "cell_type": "markdown",
   "metadata": {
    "id": "aDCk-9I_Ry1H"
   },
   "source": [
    "Checking Unique values"
   ]
  },
  {
   "cell_type": "code",
   "execution_count": null,
   "metadata": {
    "colab": {
     "base_uri": "https://localhost:8080/"
    },
    "id": "WWKLDgKO8T-r",
    "outputId": "5a952f42-9d7e-4ae8-e21c-6e93886378a1"
   },
   "outputs": [],
   "source": [
    "#This is to look at what all unique values have\n",
    "list_col=['Gender','Age','Occupation','City_Category','Stay_In_Current_City_Years','Marital_Status','Product_Category']\n",
    "for col in list_col:\n",
    "    print('{} :{} ' . format(col.upper(),df[col].unique()))"
   ]
  },
  {
   "cell_type": "markdown",
   "metadata": {
    "id": "SLkQ5smJc6k2"
   },
   "source": [
    "Checking unique male and female customers"
   ]
  },
  {
   "cell_type": "code",
   "execution_count": null,
   "metadata": {
    "colab": {
     "base_uri": "https://localhost:8080/"
    },
    "id": "cmzAsaXwc9lI",
    "outputId": "d6ceae01-c28b-40ac-d20f-0d000ca1a29a"
   },
   "outputs": [],
   "source": [
    "df.groupby('Gender')['User_ID'].nunique()"
   ]
  },
  {
   "cell_type": "markdown",
   "metadata": {
    "id": "R_bQOsHEXE3X"
   },
   "source": [
    "Mean of expenses by males and females"
   ]
  },
  {
   "cell_type": "code",
   "execution_count": null,
   "metadata": {
    "colab": {
     "base_uri": "https://localhost:8080/"
    },
    "id": "NJlMO4gRA-uM",
    "outputId": "1b56e389-0dd8-455e-fd4c-06c208875b0b"
   },
   "outputs": [],
   "source": [
    "df.groupby('Gender')['Purchase'].mean()"
   ]
  },
  {
   "cell_type": "markdown",
   "metadata": {
    "id": "ZZrHWCTVXPA3"
   },
   "source": [
    "Median of expenses by males and females"
   ]
  },
  {
   "cell_type": "code",
   "execution_count": null,
   "metadata": {
    "colab": {
     "base_uri": "https://localhost:8080/"
    },
    "id": "nE1kfkqtBWqe",
    "outputId": "d22ca309-a4e8-4e1b-ead7-b9047c43ebc5"
   },
   "outputs": [],
   "source": [
    "df.groupby('Gender')['Purchase'].median()"
   ]
  },
  {
   "cell_type": "markdown",
   "metadata": {
    "id": "Oam3DqXTcGuy"
   },
   "source": [
    "Standard Deviation"
   ]
  },
  {
   "cell_type": "code",
   "execution_count": null,
   "metadata": {
    "colab": {
     "base_uri": "https://localhost:8080/"
    },
    "id": "7A5kwmAPcKvI",
    "outputId": "ec421113-311a-46e5-fc6e-8dc2e1ae7018"
   },
   "outputs": [],
   "source": [
    "df.groupby('Gender')['Purchase'].std()"
   ]
  },
  {
   "cell_type": "markdown",
   "metadata": {
    "id": "ObBpEqXZXUcY"
   },
   "source": [
    "**Distribution of Purchases by males and females in the form of box plot**"
   ]
  },
  {
   "cell_type": "code",
   "execution_count": null,
   "metadata": {
    "colab": {
     "base_uri": "https://localhost:8080/",
     "height": 453
    },
    "id": "gNHQ-rsBBvpp",
    "outputId": "045f09c3-bf62-41e5-dc3f-9ee7d52494a9"
   },
   "outputs": [],
   "source": [
    "sns.boxplot(x='Gender', y='Purchase', data=df)\n",
    "plt.show()"
   ]
  },
  {
   "cell_type": "markdown",
   "metadata": {
    "id": "eOpEq8N9G8LD"
   },
   "source": [
    "Observations:\n",
    "1. As we can see that median of expenses of male and female customers given in the data is almost equal.\n",
    "2. There is a difference in mean."
   ]
  },
  {
   "cell_type": "code",
   "execution_count": null,
   "metadata": {
    "colab": {
     "base_uri": "https://localhost:8080/",
     "height": 300
    },
    "id": "DexjH8MqCFWj",
    "outputId": "dad2fd07-263c-4628-faea-c4f06acd5aed"
   },
   "outputs": [],
   "source": [
    "df.groupby('Gender')['Purchase'].describe().T"
   ]
  },
  {
   "cell_type": "code",
   "execution_count": null,
   "metadata": {
    "colab": {
     "base_uri": "https://localhost:8080/",
     "height": 449
    },
    "id": "8hK66qjH5EQ6",
    "outputId": "471b0c69-f18a-4326-f8d3-d26782036e09"
   },
   "outputs": [],
   "source": [
    "sns.kdeplot(x='Purchase',hue='Gender', data=df )\n",
    "plt.show()"
   ]
  },
  {
   "cell_type": "markdown",
   "metadata": {
    "id": "mlUwOR8FH0CZ"
   },
   "source": [
    "Observations:\n",
    "\n",
    "1. Plot of Male and Female purchase is not normal."
   ]
  },
  {
   "cell_type": "code",
   "execution_count": null,
   "metadata": {
    "colab": {
     "base_uri": "https://localhost:8080/"
    },
    "id": "P-DCQ9daXoHa",
    "outputId": "531fbd55-33f0-487f-aeea-966439b990f2"
   },
   "outputs": [],
   "source": [
    "df.loc[df['Gender']=='M']['Product_Category'].value_counts()"
   ]
  },
  {
   "cell_type": "code",
   "execution_count": null,
   "metadata": {
    "colab": {
     "base_uri": "https://localhost:8080/"
    },
    "id": "SGqgFvOMaFhn",
    "outputId": "73089666-d8d2-4eba-ea31-a2d51d74d2bf"
   },
   "outputs": [],
   "source": [
    "df.loc[df['Gender']=='F']['Product_Category'].value_counts()"
   ]
  },
  {
   "cell_type": "markdown",
   "metadata": {
    "id": "NDBEPhfNXpiz"
   },
   "source": [
    "Observations:\n",
    "1. one and five are the popular product categories in male customers.\n",
    "2. Five and eight is the popular category in female customers."
   ]
  },
  {
   "cell_type": "code",
   "execution_count": null,
   "metadata": {
    "id": "uLVsY6MU5jdL"
   },
   "outputs": [],
   "source": [
    "def CI(data_frame,column_name,column_value,sample_size,iterations):\n",
    "  sample_means = [data_frame[data_frame[column_name]==column_value].sample(sample_size, replace=True)['Purchase'].mean() for i in range(iterations)]\n",
    "  sns.kdeplot(sample_means)\n",
    "  plt.show()\n",
    "  print(\"\\n\")\n",
    "  upper_limit90 = np.round(np.mean(sample_means) + (1.28 * np.std(sample_means)),2)\n",
    "  lower_limit90 = np.round(np.mean(sample_means) - (1.28 * np.std(sample_means)),2)\n",
    "\n",
    "  upper_limit95 = np.round(np.mean(sample_means) + (1.64 * np.std(sample_means)),2)\n",
    "  lower_limit95 = np.round(np.mean(sample_means) - (1.64 * np.std(sample_means)),2)\n",
    "\n",
    "  upper_limit99 = np.round(np.mean(sample_means) + (2.32 * np.std(sample_means)),2)\n",
    "  lower_limit99 = np.round(np.mean(sample_means) - (2.32 * np.std(sample_means)),2)\n",
    "\n",
    "  print(f\"Confidence_interval for 90% : \",[lower_limit90,upper_limit90])\n",
    "  print(f\"Confidence_interval for 95% : \",[lower_limit95,upper_limit95])\n",
    "  print(f\"Confidence_interval for 99% : \",[lower_limit99,upper_limit99])"
   ]
  },
  {
   "cell_type": "markdown",
   "metadata": {
    "id": "fnS7JyeycNNo"
   },
   "source": [
    "# **Analysis of Male Customers**"
   ]
  },
  {
   "cell_type": "markdown",
   "metadata": {
    "id": "rKHnqvAMcYwP"
   },
   "source": [
    "Sample size is 300"
   ]
  },
  {
   "cell_type": "code",
   "execution_count": null,
   "metadata": {
    "colab": {
     "base_uri": "https://localhost:8080/",
     "height": 521
    },
    "id": "e4mlMJm09DV6",
    "outputId": "ce7ca6b9-16aa-46ec-98ed-a30ec75ba9fe"
   },
   "outputs": [],
   "source": [
    "cn = 'Gender'\n",
    "cv = 'M'\n",
    "CI(df,cn,cv,300,100)"
   ]
  },
  {
   "cell_type": "markdown",
   "metadata": {
    "id": "bm2IsK4Dcb8_"
   },
   "source": [
    "Sample size is 500"
   ]
  },
  {
   "cell_type": "code",
   "execution_count": null,
   "metadata": {
    "colab": {
     "base_uri": "https://localhost:8080/",
     "height": 521
    },
    "id": "aKPUb-jXce3L",
    "outputId": "bddd2eb3-df0b-4999-8718-19496ed15f8b"
   },
   "outputs": [],
   "source": [
    "cn = 'Gender'\n",
    "cv = 'M'\n",
    "CI(df,cn,cv,500,100)"
   ]
  },
  {
   "cell_type": "markdown",
   "metadata": {
    "id": "iD0wNGo2c0nz"
   },
   "source": [
    "Sample size is 800"
   ]
  },
  {
   "cell_type": "code",
   "execution_count": null,
   "metadata": {
    "colab": {
     "base_uri": "https://localhost:8080/",
     "height": 521
    },
    "id": "4zxJ-7CWdGC5",
    "outputId": "be4209cf-0463-48b2-db12-1fc4daa1fa8c"
   },
   "outputs": [],
   "source": [
    "cn = 'Gender'\n",
    "cv = 'M'\n",
    "CI(df,cn,cv,800,100)"
   ]
  },
  {
   "cell_type": "markdown",
   "metadata": {
    "id": "kYFALPHnHwpc"
   },
   "source": [
    "Observations:\n",
    "\n",
    "1. As we increase the sample size the distribution becomes normal.\n",
    "2. As we increase the percentage of confidence interval, it gets wider."
   ]
  },
  {
   "cell_type": "markdown",
   "metadata": {
    "id": "R8woZYV2IqLU"
   },
   "source": [
    "# **Analysis of Female Customers**"
   ]
  },
  {
   "cell_type": "markdown",
   "metadata": {
    "id": "eH3bI6GGdQJQ"
   },
   "source": [
    "Sample size is 300"
   ]
  },
  {
   "cell_type": "code",
   "execution_count": null,
   "metadata": {
    "colab": {
     "base_uri": "https://localhost:8080/",
     "height": 521
    },
    "id": "-7_xNt_fdPNJ",
    "outputId": "b3c3d859-52b0-490d-bb1c-b5e67b5b6307"
   },
   "outputs": [],
   "source": [
    "cn = 'Gender'\n",
    "cv = 'F'\n",
    "CI(df,cn,cv,300,100)"
   ]
  },
  {
   "cell_type": "markdown",
   "metadata": {
    "id": "87DyMHmJdaTZ"
   },
   "source": [
    "Sample size is 500"
   ]
  },
  {
   "cell_type": "code",
   "execution_count": null,
   "metadata": {
    "colab": {
     "base_uri": "https://localhost:8080/",
     "height": 521
    },
    "id": "brPzgmKxdZR7",
    "outputId": "d7de0e9f-7a59-40db-fbfb-03deacaa45fc"
   },
   "outputs": [],
   "source": [
    "cn = 'Gender'\n",
    "cv = 'F'\n",
    "CI(df,cn,cv,500,100)"
   ]
  },
  {
   "cell_type": "markdown",
   "metadata": {
    "id": "JbjtnL8wdhkA"
   },
   "source": [
    "Sample size is 800"
   ]
  },
  {
   "cell_type": "code",
   "execution_count": null,
   "metadata": {
    "colab": {
     "base_uri": "https://localhost:8080/",
     "height": 521
    },
    "id": "DpCXbxhrdjrC",
    "outputId": "7b87ba9d-6700-41d9-d949-9d1361c6bc7d"
   },
   "outputs": [],
   "source": [
    "cn = 'Gender'\n",
    "cv = 'F'\n",
    "CI(df,cn,cv,800,100)"
   ]
  },
  {
   "cell_type": "markdown",
   "metadata": {
    "id": "lB8s5VWSIsvp"
   },
   "source": [
    "Observations:\n",
    "\n",
    "1. As we increase the sample size the distribution becomes normal.\n",
    "2. As we increase the percentage of confidence interval, it gets wider."
   ]
  },
  {
   "cell_type": "markdown",
   "metadata": {
    "id": "zT8r9CRYIv44"
   },
   "source": [
    "### **Out of all the sample sizes and percentages of confidence intervals we have taken, confidence interval of a sample of 800 male and female customers at 95% confidence [9185.37, 9641.65] and [8450.13, 9018.46] is not overlapping so we can conclude on the population of 50 million male customers that they spend more than female customers on Black friday.**"
   ]
  },
  {
   "cell_type": "markdown",
   "metadata": {
    "id": "rf1EKERiOroM"
   },
   "source": [
    "# **Analysis of Married Customers**"
   ]
  },
  {
   "cell_type": "code",
   "execution_count": null,
   "metadata": {
    "colab": {
     "base_uri": "https://localhost:8080/"
    },
    "id": "0WkqyytcbMHg",
    "outputId": "6e578192-120f-4c8e-979d-3226277f904c"
   },
   "outputs": [],
   "source": [
    "df.loc[df['Marital_Status']=='Married']['Product_Category'].value_counts()"
   ]
  },
  {
   "cell_type": "markdown",
   "metadata": {
    "id": "hM20r6dFdxGO"
   },
   "source": [
    "Checking unique married and unmarried customers"
   ]
  },
  {
   "cell_type": "code",
   "execution_count": null,
   "metadata": {
    "id": "qv2t1UVdi80A"
   },
   "outputs": [],
   "source": [
    "df['Marital_Status'].replace(0,'Unmarried',inplace=True)\n",
    "df['Marital_Status'].replace(1,'Married',inplace=True)"
   ]
  },
  {
   "cell_type": "code",
   "execution_count": null,
   "metadata": {
    "colab": {
     "base_uri": "https://localhost:8080/"
    },
    "id": "0F19zrYYdvYi",
    "outputId": "2557ee34-769d-4531-c243-72a2ab3ed7d1"
   },
   "outputs": [],
   "source": [
    "df.groupby('Marital_Status')['User_ID'].nunique()"
   ]
  },
  {
   "cell_type": "code",
   "execution_count": null,
   "metadata": {
    "colab": {
     "base_uri": "https://localhost:8080/",
     "height": 300
    },
    "id": "gz2K2izeeXrF",
    "outputId": "7cd0bf7f-a6c4-4941-c74a-34ae04eba465"
   },
   "outputs": [],
   "source": [
    "df.groupby('Marital_Status')['Purchase'].describe().T"
   ]
  },
  {
   "cell_type": "code",
   "execution_count": null,
   "metadata": {
    "colab": {
     "base_uri": "https://localhost:8080/",
     "height": 453
    },
    "id": "tO88u-_TejhD",
    "outputId": "cfc0532b-1c10-4cec-e296-4f0f45373fe7"
   },
   "outputs": [],
   "source": [
    "sns.boxplot(x='Marital_Status',y='Purchase',data=df)\n",
    "plt.show()"
   ]
  },
  {
   "cell_type": "markdown",
   "metadata": {
    "id": "eDg0vTIrMTv9"
   },
   "source": [
    "Observations:\n",
    "1. As we can see that mean and median of expenses of married and unmarried customers given in the data is almost equal."
   ]
  },
  {
   "cell_type": "code",
   "execution_count": null,
   "metadata": {
    "colab": {
     "base_uri": "https://localhost:8080/",
     "height": 465
    },
    "id": "H7BaAYkXe8hw",
    "outputId": "cc8f1acb-36f4-4f36-d735-5a01f6f47722"
   },
   "outputs": [],
   "source": [
    "sns.kdeplot(x='Purchase',hue='Marital_Status', data=df )\n",
    "plt.show()"
   ]
  },
  {
   "cell_type": "markdown",
   "metadata": {
    "id": "IHuNWWMBMf3Z"
   },
   "source": [
    "\n",
    "Observations:\n",
    "1.\tPlot of expenses of married and unmarried customers is not normal.\n"
   ]
  },
  {
   "cell_type": "markdown",
   "metadata": {
    "id": "QN7YhbzHh-Bx"
   },
   "source": [
    "Sample size is 300"
   ]
  },
  {
   "cell_type": "code",
   "execution_count": null,
   "metadata": {
    "colab": {
     "base_uri": "https://localhost:8080/",
     "height": 521
    },
    "id": "_nxWfa6Efc7_",
    "outputId": "3f45d938-bb31-4870-9108-36fbcd754a14"
   },
   "outputs": [],
   "source": [
    "cn = 'Marital_Status'\n",
    "cv = 'Married'\n",
    "CI(df,cn,cv,300,100)"
   ]
  },
  {
   "cell_type": "markdown",
   "metadata": {
    "id": "tTOAKxbXjiJX"
   },
   "source": [
    "Sample size is 500"
   ]
  },
  {
   "cell_type": "code",
   "execution_count": null,
   "metadata": {
    "colab": {
     "base_uri": "https://localhost:8080/",
     "height": 521
    },
    "id": "B9Nqzkcrjj7z",
    "outputId": "23cf890c-4293-4117-c6bc-d282ad4658b9"
   },
   "outputs": [],
   "source": [
    "cn = 'Marital_Status'\n",
    "cv = 'Married'\n",
    "CI(df,cn,cv,500,100)"
   ]
  },
  {
   "cell_type": "markdown",
   "metadata": {
    "id": "pYhDv_tXjoS0"
   },
   "source": [
    "Sample size is 1000"
   ]
  },
  {
   "cell_type": "code",
   "execution_count": null,
   "metadata": {
    "colab": {
     "base_uri": "https://localhost:8080/",
     "height": 521
    },
    "id": "t-JDt-OwjqTW",
    "outputId": "8ce79c09-b885-4839-afab-531aab4665c5"
   },
   "outputs": [],
   "source": [
    "cn = 'Marital_Status'\n",
    "cv = 'Married'\n",
    "CI(df,cn,cv,1000,100)"
   ]
  },
  {
   "cell_type": "markdown",
   "metadata": {
    "id": "IJDku3t9MhxU"
   },
   "source": [
    "Observations:\n",
    "1.\tAs we increase the sample size the distribution becomes normal.\n",
    "2.\tAs we increase the percentage of confidence interval, it gets wider."
   ]
  },
  {
   "cell_type": "markdown",
   "metadata": {
    "id": "1zLXIqyTTph3"
   },
   "source": [
    "# **Analysis of Unmarried Customers**"
   ]
  },
  {
   "cell_type": "code",
   "execution_count": null,
   "metadata": {
    "colab": {
     "base_uri": "https://localhost:8080/"
    },
    "id": "qzPsEVN0bS_y",
    "outputId": "08a62a76-8f22-46d7-c68e-ec5f544a1cf7"
   },
   "outputs": [],
   "source": [
    "df.loc[df['Marital_Status']=='Unmarried']['Product_Category'].value_counts()"
   ]
  },
  {
   "cell_type": "markdown",
   "metadata": {
    "id": "IW4kUA74kPJ-"
   },
   "source": [
    "Sample size is 300"
   ]
  },
  {
   "cell_type": "code",
   "execution_count": null,
   "metadata": {
    "colab": {
     "base_uri": "https://localhost:8080/",
     "height": 526
    },
    "id": "9OYg6TKFjv6M",
    "outputId": "c54f8ea5-5429-4e7a-ae63-47e229551c88"
   },
   "outputs": [],
   "source": [
    "cn = 'Marital_Status'\n",
    "cv = 'Unmarried'\n",
    "CI(df,cn,cv,300,100)"
   ]
  },
  {
   "cell_type": "markdown",
   "metadata": {
    "id": "xfTTnFj5j8Jd"
   },
   "source": [
    "Sample size is 500"
   ]
  },
  {
   "cell_type": "code",
   "execution_count": null,
   "metadata": {
    "colab": {
     "base_uri": "https://localhost:8080/",
     "height": 521
    },
    "id": "2JNRl1Blj-YP",
    "outputId": "f8e7d1c6-314b-4a59-92d3-b69023e92804"
   },
   "outputs": [],
   "source": [
    "cn = 'Marital_Status'\n",
    "cv = 'Unmarried'\n",
    "CI(df,cn,cv,500,100)"
   ]
  },
  {
   "cell_type": "markdown",
   "metadata": {
    "id": "4oXzZOE_kAmY"
   },
   "source": [
    "Sample size is 1000"
   ]
  },
  {
   "cell_type": "code",
   "execution_count": null,
   "metadata": {
    "colab": {
     "base_uri": "https://localhost:8080/",
     "height": 521
    },
    "id": "Uw3E6pqOkCdW",
    "outputId": "ca008f70-1878-4d53-aaf1-c2f40f1d1c19"
   },
   "outputs": [],
   "source": [
    "cn = 'Marital_Status'\n",
    "cv = 'Unmarried'\n",
    "CI(df,cn,cv,1000,100)"
   ]
  },
  {
   "cell_type": "markdown",
   "metadata": {
    "id": "yYPMdHFPMl16"
   },
   "source": [
    "Observations:\n",
    "1.\tAs we increase the sample size the distribution becomes normal.\n",
    "2.\tAs we increase the percentage of confidence interval, it gets wider."
   ]
  },
  {
   "cell_type": "markdown",
   "metadata": {
    "id": "eJ_lVHR-Ml7A"
   },
   "source": [
    "### **Out of all the sample sizes we have taken, all the percentages of Confidence intervals are overlapping. So we cannot surely conclude that the population of married customers spend more than unmarried customers on Black friday.**"
   ]
  },
  {
   "cell_type": "markdown",
   "metadata": {
    "id": "TVxduuO6kT1X"
   },
   "source": [
    "# **Analysis of different age groups of customers**"
   ]
  },
  {
   "cell_type": "code",
   "execution_count": null,
   "metadata": {
    "colab": {
     "base_uri": "https://localhost:8080/"
    },
    "id": "Bo6SmctKkbxA",
    "outputId": "5763169b-093b-48cd-91f0-3029093cc060"
   },
   "outputs": [],
   "source": [
    "df.groupby('Age')['User_ID'].nunique()"
   ]
  },
  {
   "cell_type": "code",
   "execution_count": null,
   "metadata": {
    "colab": {
     "base_uri": "https://localhost:8080/",
     "height": 300
    },
    "id": "XMFSq45IknCC",
    "outputId": "c6a9f42f-38b8-4df8-8d59-92993a2d9062"
   },
   "outputs": [],
   "source": [
    "df.groupby('Age')['Purchase'].describe().T"
   ]
  },
  {
   "cell_type": "code",
   "execution_count": null,
   "metadata": {
    "colab": {
     "base_uri": "https://localhost:8080/",
     "height": 453
    },
    "id": "x1hu4En4ky8x",
    "outputId": "7c765d84-79b5-411e-ec28-9656fef0ec1a"
   },
   "outputs": [],
   "source": [
    "sns.boxplot(x='Age',y='Purchase',data=df)\n",
    "plt.show()"
   ]
  },
  {
   "cell_type": "markdown",
   "metadata": {
    "id": "8QmDLM-XNm_e"
   },
   "source": [
    "\n",
    "Observations:\n",
    "1. As we can see that mean median of expenses of all the age groups of customers given in the data is almost equal."
   ]
  },
  {
   "cell_type": "code",
   "execution_count": null,
   "metadata": {
    "colab": {
     "base_uri": "https://localhost:8080/",
     "height": 465
    },
    "id": "ixMIC93XlHaS",
    "outputId": "3a18f5b5-3779-4178-e4c4-9af67fb9a918"
   },
   "outputs": [],
   "source": [
    "sns.kdeplot(x='Purchase',hue='Age',data=df)\n",
    "plt.show()"
   ]
  },
  {
   "cell_type": "markdown",
   "metadata": {
    "id": "kNisaTP3N0QQ"
   },
   "source": [
    "Observations:\n",
    "1.\tPlot of purchase of all age groups is not normal.\n"
   ]
  },
  {
   "cell_type": "markdown",
   "metadata": {
    "id": "5hPquqVQmiX_"
   },
   "source": [
    "## **Age group up to 17 years**"
   ]
  },
  {
   "cell_type": "code",
   "execution_count": null,
   "metadata": {
    "colab": {
     "base_uri": "https://localhost:8080/"
    },
    "id": "SqP4szdmb2f2",
    "outputId": "1fa86034-b32b-44ae-f405-3f88ba186f16"
   },
   "outputs": [],
   "source": [
    "df.loc[df['Age']=='0-17']['Product_Category'].value_counts()"
   ]
  },
  {
   "cell_type": "markdown",
   "metadata": {
    "id": "e1VGL2YrlhLZ"
   },
   "source": [
    "Sample size is 300"
   ]
  },
  {
   "cell_type": "code",
   "execution_count": null,
   "metadata": {
    "colab": {
     "base_uri": "https://localhost:8080/",
     "height": 521
    },
    "id": "9SEXv-walgcz",
    "outputId": "1904a228-3a56-4ed3-eef3-a1e3b37c0d9a"
   },
   "outputs": [],
   "source": [
    "cn = 'Age'\n",
    "cv = '0-17'\n",
    "CI(df,cn,cv,300,100)"
   ]
  },
  {
   "cell_type": "markdown",
   "metadata": {
    "id": "tF9gG8oymp7O"
   },
   "source": [
    "Sample size of 600"
   ]
  },
  {
   "cell_type": "code",
   "execution_count": null,
   "metadata": {
    "colab": {
     "base_uri": "https://localhost:8080/",
     "height": 521
    },
    "id": "RVpIKG4rmsn6",
    "outputId": "3d5a8e56-df3d-4755-9973-2d350a9ade98"
   },
   "outputs": [],
   "source": [
    "cn = 'Age'\n",
    "cv = '0-17'\n",
    "CI(df,cn,cv,600,100)"
   ]
  },
  {
   "cell_type": "markdown",
   "metadata": {
    "id": "LEusz4xYOLrn"
   },
   "source": [
    "Observations:\n",
    "1.\tAs we increase the sample size the distribution becomes normal.\n",
    "2.\tAs we increase the percentage of confidence interval, it gets wider."
   ]
  },
  {
   "cell_type": "markdown",
   "metadata": {
    "id": "H7zUerRfmwfw"
   },
   "source": [
    "## **Age group of 18 to 25 years**"
   ]
  },
  {
   "cell_type": "code",
   "execution_count": null,
   "metadata": {
    "colab": {
     "base_uri": "https://localhost:8080/"
    },
    "id": "_HfxifLVngS8",
    "outputId": "23c5f2f1-8e45-4c7a-9655-1ebbd28bf75c"
   },
   "outputs": [],
   "source": [
    "df.loc[df['Age']=='18-25']['Product_Category'].value_counts()"
   ]
  },
  {
   "cell_type": "markdown",
   "metadata": {
    "id": "QEFcvRAImKVm"
   },
   "source": [
    "Sample size of 300"
   ]
  },
  {
   "cell_type": "code",
   "execution_count": null,
   "metadata": {
    "colab": {
     "base_uri": "https://localhost:8080/",
     "height": 521
    },
    "id": "uHaWoAS7mIN8",
    "outputId": "8e7574e5-2a7a-4ba4-ad42-a3c3d708c744"
   },
   "outputs": [],
   "source": [
    "cn = 'Age'\n",
    "cv = '18-25'\n",
    "CI(df,cn,cv,300,100)"
   ]
  },
  {
   "cell_type": "markdown",
   "metadata": {
    "id": "v-TL896xm4Hz"
   },
   "source": [
    "Sample size of 600"
   ]
  },
  {
   "cell_type": "code",
   "execution_count": null,
   "metadata": {
    "colab": {
     "base_uri": "https://localhost:8080/",
     "height": 521
    },
    "id": "4DOZ2bx4m3mr",
    "outputId": "6fd83868-4225-448e-d9b5-27b86cea6bdf"
   },
   "outputs": [],
   "source": [
    "cn = 'Age'\n",
    "cv = '18-25'\n",
    "CI(df,cn,cv,600,100)"
   ]
  },
  {
   "cell_type": "markdown",
   "metadata": {
    "id": "cQlFOmqED9SF"
   },
   "source": [
    "Observations:\n",
    "1.\tAs we increase the sample size the distribution becomes normal.\n",
    "2.\tAs we increase the percentage of confidence interval, it gets wider.\n"
   ]
  },
  {
   "cell_type": "markdown",
   "metadata": {
    "id": "x0ifUJMKD9_V"
   },
   "source": [
    "## **Age group of 26 to 35 years**"
   ]
  },
  {
   "cell_type": "code",
   "execution_count": null,
   "metadata": {
    "colab": {
     "base_uri": "https://localhost:8080/"
    },
    "id": "Cko8pz_rnkuH",
    "outputId": "088eef29-30b1-4857-a86e-c2b4031ce93d"
   },
   "outputs": [],
   "source": [
    "df.loc[df['Age']=='26-35']['Product_Category'].value_counts()"
   ]
  },
  {
   "cell_type": "markdown",
   "metadata": {
    "id": "IzyyxaoFEFW-"
   },
   "source": [
    "Sample size is 300"
   ]
  },
  {
   "cell_type": "code",
   "execution_count": null,
   "metadata": {
    "colab": {
     "base_uri": "https://localhost:8080/",
     "height": 521
    },
    "id": "cBAt512CEIBu",
    "outputId": "567f2fa4-8ce3-451b-9fa2-0f7ced7fbc24"
   },
   "outputs": [],
   "source": [
    "cn = 'Age'\n",
    "cv = '26-35'\n",
    "CI(df,cn,cv,300,100)"
   ]
  },
  {
   "cell_type": "markdown",
   "metadata": {
    "id": "GbgwIzYgEPYj"
   },
   "source": [
    "Sample size is 600"
   ]
  },
  {
   "cell_type": "code",
   "execution_count": null,
   "metadata": {
    "colab": {
     "base_uri": "https://localhost:8080/",
     "height": 521
    },
    "id": "6Mj_8-jKEUdb",
    "outputId": "ef769578-23a4-4534-ea44-a22d4ac908a2"
   },
   "outputs": [],
   "source": [
    "cn = 'Age'\n",
    "cv = '26-35'\n",
    "CI(df,cn,cv,600,100)"
   ]
  },
  {
   "cell_type": "markdown",
   "metadata": {
    "id": "QR2RBlAxOVaw"
   },
   "source": [
    "Observations:\n",
    "1.\tAs we increase the sample size the distribution becomes normal.\n",
    "2.\tAs we increase the percentage of confidence interval, it gets wider.\n"
   ]
  },
  {
   "cell_type": "markdown",
   "metadata": {
    "id": "vp1rYfxrEe5j"
   },
   "source": [
    "## **Age group of 36 to 45 years**"
   ]
  },
  {
   "cell_type": "code",
   "execution_count": null,
   "metadata": {
    "colab": {
     "base_uri": "https://localhost:8080/"
    },
    "id": "PEE5I6wCnz9o",
    "outputId": "27eb102c-2283-42ad-9a36-809d5f06be70"
   },
   "outputs": [],
   "source": [
    "df.loc[df['Age']=='36-45']['Product_Category'].value_counts()"
   ]
  },
  {
   "cell_type": "markdown",
   "metadata": {
    "id": "OwPH79gsEj6j"
   },
   "source": [
    "Sample size is 300"
   ]
  },
  {
   "cell_type": "code",
   "execution_count": null,
   "metadata": {
    "colab": {
     "base_uri": "https://localhost:8080/",
     "height": 521
    },
    "id": "EUKYvCxlEi-b",
    "outputId": "94a7646f-fdc6-4cab-b513-65fd10bcee04"
   },
   "outputs": [],
   "source": [
    "cn = 'Age'\n",
    "cv = '36-45'\n",
    "CI(df,cn,cv,300,100)"
   ]
  },
  {
   "cell_type": "markdown",
   "metadata": {
    "id": "caDxguU2EtGP"
   },
   "source": [
    "Sample size is 600"
   ]
  },
  {
   "cell_type": "code",
   "execution_count": null,
   "metadata": {
    "colab": {
     "base_uri": "https://localhost:8080/",
     "height": 522
    },
    "id": "2QP37gGNEuuf",
    "outputId": "d50329ba-17a3-4bc8-e3c0-e7b0ca40dafe"
   },
   "outputs": [],
   "source": [
    "cn = 'Age'\n",
    "cv = '36-45'\n",
    "CI(df,cn,cv,600,100)"
   ]
  },
  {
   "cell_type": "markdown",
   "metadata": {
    "id": "zuEnAqErOWpf"
   },
   "source": [
    "Observations:\n",
    "1.\tAs we increase the sample size the distribution becomes normal.\n",
    "2.\tAs we increase the percentage of confidence interval, it gets wider.\n"
   ]
  },
  {
   "cell_type": "markdown",
   "metadata": {
    "id": "BuCiQiU7E6vJ"
   },
   "source": [
    "## **Age group of 46 to 50 years**"
   ]
  },
  {
   "cell_type": "code",
   "execution_count": null,
   "metadata": {
    "colab": {
     "base_uri": "https://localhost:8080/"
    },
    "id": "uAVoC5ZMnxBd",
    "outputId": "1a5b8ebc-1085-4991-d04e-daac864f56a3"
   },
   "outputs": [],
   "source": [
    "df.loc[df['Age']=='46-50']['Product_Category'].value_counts()"
   ]
  },
  {
   "cell_type": "markdown",
   "metadata": {
    "id": "kKtD3YxeFHar"
   },
   "source": [
    "Sample size is 300"
   ]
  },
  {
   "cell_type": "code",
   "execution_count": null,
   "metadata": {
    "colab": {
     "base_uri": "https://localhost:8080/",
     "height": 521
    },
    "id": "DuhZwVzPFRt7",
    "outputId": "751232c6-da06-4eb8-d223-f8fc13cfafc4"
   },
   "outputs": [],
   "source": [
    "cn = 'Age'\n",
    "cv = '46-50'\n",
    "CI(df,cn,cv,300,100)"
   ]
  },
  {
   "cell_type": "markdown",
   "metadata": {
    "id": "cZjQTF8FFbn1"
   },
   "source": [
    "Sample size is 600"
   ]
  },
  {
   "cell_type": "code",
   "execution_count": null,
   "metadata": {
    "colab": {
     "base_uri": "https://localhost:8080/",
     "height": 521
    },
    "id": "OP7kh2RiFdr8",
    "outputId": "c5e532f3-7462-4b85-edfd-be5e5af3e408"
   },
   "outputs": [],
   "source": [
    "cn = 'Age'\n",
    "cv = '46-50'\n",
    "CI(df,cn,cv,600,100)"
   ]
  },
  {
   "cell_type": "markdown",
   "metadata": {
    "id": "Nn-WVjEuOXzl"
   },
   "source": [
    "Observations:\n",
    "1.\tAs we increase the sample size the distribution becomes normal.\n",
    "2.\tAs we increase the percentage of confidence interval, it gets wider.\n"
   ]
  },
  {
   "cell_type": "markdown",
   "metadata": {
    "id": "UdWqL1L7Frm8"
   },
   "source": [
    "## **Age group of 51 to 55 years**"
   ]
  },
  {
   "cell_type": "code",
   "execution_count": null,
   "metadata": {
    "colab": {
     "base_uri": "https://localhost:8080/"
    },
    "id": "EZPQidfununH",
    "outputId": "19fe8204-75c3-4ddf-f461-8b9a36eb1243"
   },
   "outputs": [],
   "source": [
    "df.loc[df['Age']=='51-55']['Product_Category'].value_counts()"
   ]
  },
  {
   "cell_type": "markdown",
   "metadata": {
    "id": "MbIMj_a1F3Mj"
   },
   "source": [
    "Sample size is 300"
   ]
  },
  {
   "cell_type": "code",
   "execution_count": null,
   "metadata": {
    "colab": {
     "base_uri": "https://localhost:8080/",
     "height": 521
    },
    "id": "9f-DNnNYFzbl",
    "outputId": "7a99ef74-44f1-4a31-f450-99cc8ae01cc0"
   },
   "outputs": [],
   "source": [
    "cn = 'Age'\n",
    "cv = '51-55'\n",
    "CI(df,cn,cv,300,100)"
   ]
  },
  {
   "cell_type": "markdown",
   "metadata": {
    "id": "cpPpzifFGQwY"
   },
   "source": [
    "Sample size is 600"
   ]
  },
  {
   "cell_type": "code",
   "execution_count": null,
   "metadata": {
    "colab": {
     "base_uri": "https://localhost:8080/",
     "height": 521
    },
    "id": "eiWT6LUvGSQ1",
    "outputId": "e3b16a7d-4701-4fef-cc24-04dbe240ef20"
   },
   "outputs": [],
   "source": [
    "cn = 'Age'\n",
    "cv = '51-55'\n",
    "CI(df,cn,cv,600,100)"
   ]
  },
  {
   "cell_type": "markdown",
   "metadata": {
    "id": "MtGG0G8cOY2c"
   },
   "source": [
    "Observations:\n",
    "1.\tAs we increase the sample size the distribution becomes normal.\n",
    "2.\tAs we increase the percentage of confidence interval, it gets wider.\n"
   ]
  },
  {
   "cell_type": "markdown",
   "metadata": {
    "id": "PnBXP5DXGZYD"
   },
   "source": [
    "## **Age group of 55 years and above**"
   ]
  },
  {
   "cell_type": "code",
   "execution_count": null,
   "metadata": {
    "colab": {
     "base_uri": "https://localhost:8080/"
    },
    "id": "7fbXG2UNnre2",
    "outputId": "73f018b7-d338-433d-8497-cc05c2173600"
   },
   "outputs": [],
   "source": [
    "df.loc[df['Age']=='55+']['Product_Category'].value_counts()"
   ]
  },
  {
   "cell_type": "markdown",
   "metadata": {
    "id": "aDatRC3_GhAj"
   },
   "source": [
    "Sample size is 300"
   ]
  },
  {
   "cell_type": "code",
   "execution_count": null,
   "metadata": {
    "colab": {
     "base_uri": "https://localhost:8080/",
     "height": 521
    },
    "id": "KECM19NcGef0",
    "outputId": "901a6b8c-7e0f-4334-85e6-c77b5a12d615"
   },
   "outputs": [],
   "source": [
    "cn = 'Age'\n",
    "cv = '55+'\n",
    "CI(df,cn,cv,300,100)"
   ]
  },
  {
   "cell_type": "markdown",
   "metadata": {
    "id": "vkBP0fGVGlmk"
   },
   "source": [
    "Sample size is 600"
   ]
  },
  {
   "cell_type": "code",
   "execution_count": null,
   "metadata": {
    "colab": {
     "base_uri": "https://localhost:8080/",
     "height": 521
    },
    "id": "H4uUPygXGnjT",
    "outputId": "9fd8bc4f-d027-421f-dbc9-773803dfd619"
   },
   "outputs": [],
   "source": [
    "cn = 'Age'\n",
    "cv = '55+'\n",
    "CI(df,cn,cv,600,100)"
   ]
  },
  {
   "cell_type": "markdown",
   "metadata": {
    "id": "fqUTA_HVOZ1V"
   },
   "source": [
    "Observations:\n",
    "1.\tAs we increase the sample size the distribution becomes normal.\n",
    "2.\tAs we increase the percentage of confidence interval, it gets wider.\n"
   ]
  },
  {
   "cell_type": "markdown",
   "metadata": {
    "id": "UzqeN9qOOaVX"
   },
   "source": [
    "### **Out of all different samples of age groups and different percentages of confidence intervals we have considered, confidence interval of a sample of 600 customers of age up to 17 years and 51 to 55 years at 90% confidence [8699.43, 9206.04] and [9267.52, 9772.25] respectively, is not overlapping so we can comment on the population that customers of age up to 17 years spend more than customers of age group 51 to 55 years on Black friday.**"
   ]
  },
  {
   "cell_type": "markdown",
   "metadata": {
    "id": "sTEZFxyBV98H"
   },
   "source": [
    "# **Recommendations:**\n",
    "### **1. Company can focus more on male products more than female products and give relative offers and sales on black friday.**\n",
    "\n",
    "### **2. Company can focus more on customers up to 17 years of age as compared to 55 years and above as the former spend more on black friday.**\n",
    "\n",
    "### **3. As One, five and eight are the top 3 most popular product categories in male and female customers as well as married and unmarried customers and among all the age groups, we can improve and bring more choices and variations in these categories.**"
   ]
  }
 ],
 "metadata": {
  "colab": {
   "provenance": []
  },
  "kernelspec": {
   "display_name": "Python 3 (ipykernel)",
   "language": "python",
   "name": "python3"
  },
  "language_info": {
   "codemirror_mode": {
    "name": "ipython",
    "version": 3
   },
   "file_extension": ".py",
   "mimetype": "text/x-python",
   "name": "python",
   "nbconvert_exporter": "python",
   "pygments_lexer": "ipython3",
   "version": "3.11.1"
  }
 },
 "nbformat": 4,
 "nbformat_minor": 1
}
