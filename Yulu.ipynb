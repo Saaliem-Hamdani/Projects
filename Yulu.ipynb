{
 "cells": [
  {
   "cell_type": "code",
   "execution_count": null,
   "id": "a61deea9",
   "metadata": {},
   "outputs": [],
   "source": [
    "import numpy as np\n",
    "import pandas as pd\n",
    "import matplotlib.pyplot as plt\n",
    "import seaborn as sns\n",
    "from statsmodels.stats.weightstats import ztest as ztest\n",
    "from scipy.stats import ttest_ind_from_stats as ttest\n",
    "from scipy.stats import chi2_contingency\n",
    "from scipy.stats import f_oneway\n",
    "import scipy.stats\n",
    "from scipy.stats import levene\n",
    "from scipy.stats import shapiro"
   ]
  },
  {
   "cell_type": "markdown",
   "id": "5d2006f7",
   "metadata": {},
   "source": [
    "Checking the shape of data"
   ]
  },
  {
   "cell_type": "code",
   "execution_count": null,
   "id": "052ea3ee",
   "metadata": {},
   "outputs": [],
   "source": [
    "df.shape"
   ]
  },
  {
   "cell_type": "markdown",
   "id": "6bc8d868",
   "metadata": {},
   "source": [
    "Checking data types of features"
   ]
  },
  {
   "cell_type": "code",
   "execution_count": null,
   "id": "3ff65399",
   "metadata": {},
   "outputs": [],
   "source": [
    "df.info()"
   ]
  },
  {
   "cell_type": "markdown",
   "id": "81327182",
   "metadata": {},
   "source": [
    "As we can see that data type of datetime is an object. We convert it to datetime object."
   ]
  },
  {
   "cell_type": "code",
   "execution_count": null,
   "id": "bac90755",
   "metadata": {},
   "outputs": [],
   "source": [
    "df_copy = df.copy()"
   ]
  },
  {
   "cell_type": "code",
   "execution_count": null,
   "id": "ef8c74ea",
   "metadata": {},
   "outputs": [],
   "source": [
    "df_copy['datetime'] = pd.to_datetime(df['datetime'])"
   ]
  },
  {
   "cell_type": "code",
   "execution_count": null,
   "id": "181a33ad",
   "metadata": {},
   "outputs": [],
   "source": [
    "df_copy.info()"
   ]
  },
  {
   "cell_type": "markdown",
   "id": "62f10237",
   "metadata": {},
   "source": [
    "Extracting the date from datetime."
   ]
  },
  {
   "cell_type": "code",
   "execution_count": null,
   "id": "642f9bdf",
   "metadata": {},
   "outputs": [],
   "source": [
    "df_copy['date'] = df_copy['datetime'].dt.date"
   ]
  },
  {
   "cell_type": "markdown",
   "id": "bde47ed0",
   "metadata": {},
   "source": [
    "Checking the distribution of data"
   ]
  },
  {
   "cell_type": "code",
   "execution_count": null,
   "id": "70cbeb13",
   "metadata": {},
   "outputs": [],
   "source": [
    "df.describe()"
   ]
  },
  {
   "cell_type": "markdown",
   "id": "de5ceb1e",
   "metadata": {},
   "source": [
    "Checking the null values"
   ]
  },
  {
   "cell_type": "code",
   "execution_count": null,
   "id": "77384fa4",
   "metadata": {},
   "outputs": [],
   "source": [
    "df.isnull().sum()"
   ]
  },
  {
   "cell_type": "markdown",
   "id": "5bb81c77",
   "metadata": {},
   "source": [
    "Checking unique values"
   ]
  },
  {
   "cell_type": "code",
   "execution_count": null,
   "id": "2be44a32",
   "metadata": {},
   "outputs": [],
   "source": [
    "list_col=['season','holiday','workingday','weather']\n",
    "for col in list_col:\n",
    "    print('{} : {} ' . format(col.upper(),df[col].unique()))"
   ]
  },
  {
   "cell_type": "markdown",
   "id": "5dbf71a5",
   "metadata": {},
   "source": [
    "Checking the distribution of count of bicycles"
   ]
  },
  {
   "cell_type": "code",
   "execution_count": null,
   "id": "e7e82eaf",
   "metadata": {},
   "outputs": [],
   "source": [
    "sns.boxplot(y='count',data=df)\n",
    "plt.show()"
   ]
  },
  {
   "cell_type": "markdown",
   "id": "aa9eca35",
   "metadata": {},
   "source": [
    "Distribution of count of bicycles across different seasons"
   ]
  },
  {
   "cell_type": "code",
   "execution_count": null,
   "id": "320cd089",
   "metadata": {},
   "outputs": [],
   "source": [
    "sns.boxplot(x='season',y='count',data=df)\n",
    "plt.show()"
   ]
  },
  {
   "cell_type": "code",
   "execution_count": null,
   "id": "814318d7",
   "metadata": {},
   "outputs": [],
   "source": [
    "df['season'].value_counts()"
   ]
  },
  {
   "cell_type": "code",
   "execution_count": null,
   "id": "a6f76efe",
   "metadata": {},
   "outputs": [],
   "source": [
    "df.groupby('season')['count'].describe().T"
   ]
  },
  {
   "cell_type": "markdown",
   "id": "f82bc5b2",
   "metadata": {},
   "source": [
    "There is a difference in mean and median due to the presence of outliers.\n",
    "\n",
    "The median of season 1 is lower as compared to the rest 3 seasons. Whereas there is no significant difference in medians of season 2,3 and 4."
   ]
  },
  {
   "cell_type": "code",
   "execution_count": null,
   "id": "882c85ce",
   "metadata": {},
   "outputs": [],
   "source": [
    "sns.boxplot(x='weather',y='count',data=df)\n",
    "plt.show()"
   ]
  },
  {
   "cell_type": "code",
   "execution_count": null,
   "id": "b93da0e4",
   "metadata": {},
   "outputs": [],
   "source": [
    "sns.boxplot(x='workingday',y='count',data=df)\n",
    "plt.show()"
   ]
  },
  {
   "cell_type": "markdown",
   "id": "f5497c37",
   "metadata": {},
   "source": [
    "There is no significant difference between median values of working and non-working days"
   ]
  },
  {
   "cell_type": "code",
   "execution_count": null,
   "id": "55c24943",
   "metadata": {},
   "outputs": [],
   "source": [
    "plt.figure(figsize=(15,6))\n",
    "sns.heatmap(df.corr(numeric_only=True),cmap='coolwarm',annot=True)\n",
    "plt.show()"
   ]
  },
  {
   "cell_type": "markdown",
   "id": "37abd836",
   "metadata": {},
   "source": [
    "# Effect of working day on the number of electric cycles rented"
   ]
  },
  {
   "cell_type": "markdown",
   "id": "4374fcd1",
   "metadata": {},
   "source": [
    "Null Hypotheses, Ho: mean of cycles rented on working day is equal to the mean of cycles rented on a non-working day.\n",
    "\n",
    "Alternate Hypotheses, Ha: mean of cycles rented on working day is not equal to the mean of cycles rented on a non-working day.\n",
    "\n",
    "Significance level: 0.05"
   ]
  },
  {
   "cell_type": "markdown",
   "id": "ffed4f4a",
   "metadata": {},
   "source": [
    "Mean of count of cycles on working and non-working days:"
   ]
  },
  {
   "cell_type": "code",
   "execution_count": null,
   "id": "b3521b08",
   "metadata": {},
   "outputs": [],
   "source": [
    "df.groupby('workingday')['count'].mean()"
   ]
  },
  {
   "cell_type": "markdown",
   "id": "1df1ab7c",
   "metadata": {},
   "source": [
    "Standard deviation of count of bicycles on working and non-working days:"
   ]
  },
  {
   "cell_type": "code",
   "execution_count": null,
   "id": "b898f632",
   "metadata": {},
   "outputs": [],
   "source": [
    "df.groupby('workingday')['count'].std()"
   ]
  },
  {
   "cell_type": "markdown",
   "id": "772fd880",
   "metadata": {},
   "source": [
    "Number of working and non-working days:"
   ]
  },
  {
   "cell_type": "code",
   "execution_count": null,
   "id": "26071c51",
   "metadata": {},
   "outputs": [],
   "source": [
    "x = df_copy.groupby(['date','workingday'])['workingday'].nunique().to_frame()"
   ]
  },
  {
   "cell_type": "code",
   "execution_count": null,
   "id": "3bd97b71",
   "metadata": {},
   "outputs": [],
   "source": [
    "x.rename({'workingday':'count'},axis=1,inplace=True)"
   ]
  },
  {
   "cell_type": "code",
   "execution_count": null,
   "id": "b535b6cc",
   "metadata": {},
   "outputs": [],
   "source": [
    "x.reset_index()"
   ]
  },
  {
   "cell_type": "code",
   "execution_count": null,
   "id": "d905a18d",
   "metadata": {},
   "outputs": [],
   "source": [
    "x.groupby('workingday')['count'].sum()"
   ]
  },
  {
   "cell_type": "markdown",
   "id": "8357a459",
   "metadata": {},
   "source": [
    "### Conducting 2 sample T - test"
   ]
  },
  {
   "cell_type": "code",
   "execution_count": null,
   "id": "2edda30a",
   "metadata": {},
   "outputs": [],
   "source": [
    "t_stat, p_value = ttest(188.5,173.72,145,193.012,184.5,311)\n",
    "\n",
    "critical_value = scipy.stats.t.ppf(0.95,df=145)\n",
    "\n",
    "print('Test statistic: ',t_stat)\n",
    "print('P-value: ',p_value)\n",
    "print('Critical value: ',critical_value)\n",
    "print(\"\\n\")\n",
    "if t_stat < critical_value:\n",
    "    print(\"Fail to reject Null hypotheses\")\n",
    "else:\n",
    "    print('Reject Null hypotheses')"
   ]
  },
  {
   "cell_type": "markdown",
   "id": "e94d27c1",
   "metadata": {},
   "source": [
    "#### Hence, working day has no effect on the number of cycles rented"
   ]
  },
  {
   "cell_type": "markdown",
   "id": "05285fc3",
   "metadata": {},
   "source": [
    "# Effect of seasons on the number of electric cycles rented"
   ]
  },
  {
   "cell_type": "code",
   "execution_count": null,
   "id": "0b3ceeb6",
   "metadata": {},
   "outputs": [],
   "source": [
    "df.groupby('season')['count'].describe().T"
   ]
  },
  {
   "cell_type": "markdown",
   "id": "5b3bf2ca",
   "metadata": {},
   "source": [
    "### Checking the assumptions of ANOVA"
   ]
  },
  {
   "cell_type": "markdown",
   "id": "9cfe38c8",
   "metadata": {},
   "source": [
    "#### Checking the normality using KDE plot"
   ]
  },
  {
   "cell_type": "code",
   "execution_count": null,
   "id": "157fe49b",
   "metadata": {},
   "outputs": [],
   "source": [
    "pd.Series(s1).plot(kind='kde')\n",
    "plt.show()"
   ]
  },
  {
   "cell_type": "code",
   "execution_count": null,
   "id": "1eca13db",
   "metadata": {},
   "outputs": [],
   "source": [
    "pd.Series(s2).plot(kind='kde')\n",
    "plt.show()"
   ]
  },
  {
   "cell_type": "code",
   "execution_count": null,
   "id": "2199c1af",
   "metadata": {},
   "outputs": [],
   "source": [
    "pd.Series(s3).plot(kind='kde')\n",
    "plt.show()"
   ]
  },
  {
   "cell_type": "code",
   "execution_count": null,
   "id": "6a884565",
   "metadata": {},
   "outputs": [],
   "source": [
    "pd.Series(s4).plot(kind='kde')\n",
    "plt.show()"
   ]
  },
  {
   "cell_type": "markdown",
   "id": "ff281ba7",
   "metadata": {},
   "source": [
    "#### Checking for normality using shapiro test"
   ]
  },
  {
   "cell_type": "code",
   "execution_count": null,
   "id": "514ee3b0",
   "metadata": {},
   "outputs": [],
   "source": [
    "test1, p_val1 = shapiro(s1)\n",
    "\n",
    "print('P-value for weather 1: ',p_val1)\n",
    "\n",
    "test2, p_val2 = shapiro(s2)\n",
    "\n",
    "print('P-value for weather 2: ',p_val2)\n",
    "\n",
    "test3, p_val3= shapiro(s3)\n",
    "\n",
    "print('P-value for weather 3: ',p_val3)\n",
    "\n",
    "test4, p_val4= shapiro(s4)\n",
    "\n",
    "print('P-value for weather 3: ',p_val3)\n",
    "\n",
    "if p_val1 < 0.05 or p_val2 < 0.05 or p_val3 < 0.05:\n",
    "    print(\"Not normal\")\n",
    "else:\n",
    "    print('Normal')"
   ]
  },
  {
   "cell_type": "markdown",
   "id": "e24dc64e",
   "metadata": {},
   "source": [
    "#### Checking for variances of samples using levene test"
   ]
  },
  {
   "cell_type": "code",
   "execution_count": null,
   "id": "36875d23",
   "metadata": {},
   "outputs": [],
   "source": [
    "test, p_val= levene(s1,s2,s3,s4)\n",
    "\n",
    "print('Test statistic: ',test)\n",
    "print('P-value: ',p_val)\n",
    "\n",
    "if p_val < 0.05:\n",
    "    print('Variances are unequal')\n",
    "else:\n",
    "    print('Variances are equal')"
   ]
  },
  {
   "cell_type": "markdown",
   "id": "a055db4f",
   "metadata": {},
   "source": [
    "### Both the assumptions of ANOVA failed, but we can give it a try"
   ]
  },
  {
   "cell_type": "markdown",
   "id": "7b1c9451",
   "metadata": {},
   "source": [
    "#### ANOVA Test"
   ]
  },
  {
   "cell_type": "markdown",
   "id": "0d3a4757",
   "metadata": {},
   "source": [
    "Null Hypotheses, Ho: Mean of cycles rented in all seasons is equal.\n",
    "\n",
    "Alternate Hypotheses, Ha: Mean of cycles rented in all seasons is unequal.\n",
    "\n",
    "Significance level: 0.05"
   ]
  },
  {
   "cell_type": "code",
   "execution_count": null,
   "id": "90d83db8",
   "metadata": {},
   "outputs": [],
   "source": [
    "s1 = df.loc[df['season'] == 1]['count'].values\n",
    "s2 = df.loc[df['season'] == 2]['count'].values\n",
    "s3 = df.loc[df['season'] == 3]['count'].values\n",
    "s4 = df.loc[df['season'] == 4]['count'].values"
   ]
  },
  {
   "cell_type": "code",
   "execution_count": null,
   "id": "51084d5d",
   "metadata": {},
   "outputs": [],
   "source": [
    "t_stat,p_value = f_oneway(s1,s2,s3,s4)\n",
    "\n",
    "print('Test statistic: ',t_stat)\n",
    "print('P-value: ',p_value)\n",
    "\n",
    "if p_value < 0.05:\n",
    "    print('Reject Null hypotheses')\n",
    "else:\n",
    "    print('Fail to reject Null hypotheses')"
   ]
  },
  {
   "cell_type": "markdown",
   "id": "5c9b22e2",
   "metadata": {},
   "source": [
    "#### Hence, number of cycles rented in different seasons is different"
   ]
  },
  {
   "cell_type": "markdown",
   "id": "fce859fa",
   "metadata": {},
   "source": [
    "# Effect of weather on the number of electric cycles rented"
   ]
  },
  {
   "cell_type": "code",
   "execution_count": null,
   "id": "a6155dda",
   "metadata": {},
   "outputs": [],
   "source": [
    "df.groupby('weather')['count'].describe().T"
   ]
  },
  {
   "cell_type": "markdown",
   "id": "8a5ccdaa",
   "metadata": {},
   "source": [
    "#### Verifying the assumptions for ANOVA"
   ]
  },
  {
   "cell_type": "markdown",
   "id": "805b3ed2",
   "metadata": {},
   "source": [
    "##### Checking the normality using KDE plot"
   ]
  },
  {
   "cell_type": "code",
   "execution_count": null,
   "id": "8deff247",
   "metadata": {},
   "outputs": [],
   "source": [
    "pd.Series(w1).plot(kind='kde')\n",
    "plt.show()"
   ]
  },
  {
   "cell_type": "code",
   "execution_count": null,
   "id": "2602d76e",
   "metadata": {},
   "outputs": [],
   "source": [
    "pd.Series(w2).plot(kind='kde')\n",
    "plt.show()"
   ]
  },
  {
   "cell_type": "code",
   "execution_count": null,
   "id": "676c77a7",
   "metadata": {},
   "outputs": [],
   "source": [
    "pd.Series(w3).plot(kind='kde')\n",
    "plt.show()"
   ]
  },
  {
   "cell_type": "markdown",
   "id": "a49be5fe",
   "metadata": {},
   "source": [
    "#### Checking for normality using shapiro test"
   ]
  },
  {
   "cell_type": "code",
   "execution_count": null,
   "id": "c623c845",
   "metadata": {},
   "outputs": [],
   "source": [
    "test1, p_val1 = shapiro(w1)\n",
    "\n",
    "print('P-value for weather 1: ',p_val1)\n",
    "\n",
    "test2, p_val2 = shapiro(w2)\n",
    "\n",
    "print('P-value for weather 2: ',p_val2)\n",
    "\n",
    "test3, p_val3= shapiro(w3)\n",
    "\n",
    "print('P-value for weather 3: ',p_val3)\\\n",
    "\n",
    "if p_val1 < 0.05 or p_val2 < 0.05 or p_val3 < 0.05:\n",
    "    print(\"Not normal\")\n",
    "else:\n",
    "    print('Normal')"
   ]
  },
  {
   "cell_type": "markdown",
   "id": "61123a6b",
   "metadata": {},
   "source": [
    "#### Checking for variances of samples using levene test"
   ]
  },
  {
   "cell_type": "code",
   "execution_count": null,
   "id": "c5ab669f",
   "metadata": {},
   "outputs": [],
   "source": [
    "test, p_val= levene(w1,w2,w3,w4)\n",
    "\n",
    "print('Test statistic: ',test)\n",
    "print('P-value: ',p_val)\n",
    "\n",
    "if p_val < 0.05:\n",
    "    print('Variances are unequal')\n",
    "else:\n",
    "    print('Variances are equal')"
   ]
  },
  {
   "cell_type": "markdown",
   "id": "55fd7161",
   "metadata": {},
   "source": [
    "### Both the assumptions of ANOVA failed, but we can give it a try"
   ]
  },
  {
   "cell_type": "markdown",
   "id": "5285a5c0",
   "metadata": {},
   "source": [
    "#### ANOVA Test"
   ]
  },
  {
   "cell_type": "markdown",
   "id": "6e8b02e8",
   "metadata": {},
   "source": [
    "Null Hypotheses, Ho: Mean of cycles rented in all weathers is same.\n",
    "\n",
    "Alternate Hypotheses, Ha: Mean of cycles rented in all weathers is unequal.\n",
    "\n",
    "Significance level: 0.05"
   ]
  },
  {
   "cell_type": "code",
   "execution_count": null,
   "id": "59f7e86a",
   "metadata": {},
   "outputs": [],
   "source": [
    "w1 = df.loc[df['weather'] == 1]['count'].values\n",
    "w2 = df.loc[df['weather'] == 2]['count'].values\n",
    "w3 = df.loc[df['weather'] == 3]['count'].values\n",
    "w4 = df.loc[df['weather'] == 4]['count'].values"
   ]
  },
  {
   "cell_type": "code",
   "execution_count": null,
   "id": "5af6cd72",
   "metadata": {},
   "outputs": [],
   "source": [
    "t_stat,p_value = f_oneway(w1,w2,w3,w4)\n",
    "\n",
    "print('Test statistic: ',t_stat)\n",
    "print('P-value: ',p_value)\n",
    "\n",
    "if p_value < 0.05:\n",
    "    print('Reject Null hypotheses')\n",
    "else:\n",
    "    print('Fail to reject Null hypotheses')"
   ]
  },
  {
   "cell_type": "markdown",
   "id": "57c49fdc",
   "metadata": {},
   "source": [
    "#### Hence, number of cycles rented in different weathers is different"
   ]
  },
  {
   "cell_type": "markdown",
   "id": "45dc88f1",
   "metadata": {},
   "source": [
    "# Check the dependency of weather on season"
   ]
  },
  {
   "cell_type": "markdown",
   "id": "b8fc00a1",
   "metadata": {},
   "source": [
    "Null Hypotheses, Ho: Weather is not dependent on season\n",
    "\n",
    "Alternate Hypotheses, Ha: Weather is dependent on season\n",
    "\n",
    "Significance level: 0.05"
   ]
  },
  {
   "cell_type": "code",
   "execution_count": null,
   "id": "98c7bded",
   "metadata": {},
   "outputs": [],
   "source": [
    "pd.crosstab(df['weather'],df['season'])"
   ]
  },
  {
   "cell_type": "code",
   "execution_count": null,
   "id": "25034921",
   "metadata": {},
   "outputs": [],
   "source": [
    "data = [[1759,715,211,1],[1801,708,224,0],[1930,604,199,0],[1702,807,225,0]]"
   ]
  },
  {
   "cell_type": "markdown",
   "id": "aebeae5f",
   "metadata": {},
   "source": [
    "### Chi square test"
   ]
  },
  {
   "cell_type": "code",
   "execution_count": null,
   "id": "9c5fa3c7",
   "metadata": {},
   "outputs": [],
   "source": [
    "critical_value = scipy.stats.chi2.isf(q=0.05,df=9)\n",
    "\n",
    "stat,p,dof,expected = chi2_contingency(data)\n",
    "\n",
    "print('Test statistic: ',stat)\n",
    "print('P-value: ',p)\n",
    "print('Degree of freedom: ',dof)\n",
    "print('Critical value: ',critical_value)\n",
    "print(\"\\n\")\n",
    "\n",
    "if t_stat > critical_value:\n",
    "    print('Reject Null hypotheses')\n",
    "else:\n",
    "    print('Fail to reject Null hypotheses')"
   ]
  },
  {
   "cell_type": "markdown",
   "id": "4895a169",
   "metadata": {},
   "source": [
    "#### Hence, weather is dependent on season"
   ]
  }
 ],
 "metadata": {
  "kernelspec": {
   "display_name": "Python 3 (ipykernel)",
   "language": "python",
   "name": "python3"
  },
  "language_info": {
   "codemirror_mode": {
    "name": "ipython",
    "version": 3
   },
   "file_extension": ".py",
   "mimetype": "text/x-python",
   "name": "python",
   "nbconvert_exporter": "python",
   "pygments_lexer": "ipython3",
   "version": "3.11.1"
  }
 },
 "nbformat": 4,
 "nbformat_minor": 5
}
