{
 "cells": [
  {
   "cell_type": "code",
   "execution_count": null,
   "metadata": {
    "id": "t1rCWMJ1w6gK"
   },
   "outputs": [],
   "source": [
    "import numpy as np\n",
    "import pandas as pd\n",
    "import matplotlib.pyplot as plt\n",
    "import seaborn as sns"
   ]
  },
  {
   "cell_type": "code",
   "execution_count": null,
   "metadata": {},
   "outputs": [],
   "source": [
    "df.shape"
   ]
  },
  {
   "cell_type": "code",
   "execution_count": null,
   "metadata": {
    "colab": {
     "base_uri": "https://localhost:8080/"
    },
    "id": "t8MPnE0oyJPX",
    "outputId": "cfeec02e-23fa-4918-989f-f8a7a9ebc452"
   },
   "outputs": [],
   "source": [
    "df.info()"
   ]
  },
  {
   "cell_type": "code",
   "execution_count": null,
   "metadata": {
    "colab": {
     "base_uri": "https://localhost:8080/",
     "height": 300
    },
    "id": "rwaAonCxytQ-",
    "outputId": "dbb08c07-01c3-4d7a-a804-7ab7a4595476"
   },
   "outputs": [],
   "source": [
    "df.describe()"
   ]
  },
  {
   "cell_type": "code",
   "execution_count": null,
   "metadata": {},
   "outputs": [],
   "source": [
    "df.isnull().sum()"
   ]
  },
  {
   "cell_type": "code",
   "execution_count": null,
   "metadata": {},
   "outputs": [],
   "source": [
    "#This is to look at what all unique values have\n",
    "list_col=['Product','MaritalStatus','Usage','Fitness','Education','Age']\n",
    "for col in list_col: \n",
    "    print('{} :{} ' . format(col.upper(),df[col].unique()))"
   ]
  },
  {
   "cell_type": "code",
   "execution_count": null,
   "metadata": {},
   "outputs": [],
   "source": [
    "df.Product.value_counts()"
   ]
  },
  {
   "cell_type": "code",
   "execution_count": null,
   "metadata": {},
   "outputs": [],
   "source": [
    "#Are Male customers buying treadmill more than female customers?\n",
    "df.Gender.value_counts()"
   ]
  },
  {
   "cell_type": "code",
   "execution_count": null,
   "metadata": {},
   "outputs": [],
   "source": [
    "#Are married customer buying Treadmill more than Single customers?\n",
    "df.MaritalStatus.value_counts()"
   ]
  },
  {
   "cell_type": "markdown",
   "metadata": {},
   "source": [
    "Observation: There are 107 Partnered and 73 single customers. Customers who are Partnered are buying treadmill more compared to single customer."
   ]
  },
  {
   "cell_type": "code",
   "execution_count": null,
   "metadata": {},
   "outputs": [],
   "source": [
    "df['Usage'].value_counts()"
   ]
  },
  {
   "cell_type": "code",
   "execution_count": null,
   "metadata": {},
   "outputs": [],
   "source": [
    "df['Fitness'].value_counts()"
   ]
  },
  {
   "cell_type": "markdown",
   "metadata": {},
   "source": [
    "A broader look at correlation between columns of dataframe"
   ]
  },
  {
   "cell_type": "code",
   "execution_count": null,
   "metadata": {},
   "outputs": [],
   "source": [
    "df_copy = df.copy()\n",
    "\n",
    "df_copy['Gender'].replace(['Male','Female'],[1,0],inplace=True)\n",
    "df_copy['MaritalStatus'].replace(['Single','Partnered'],[0,1],inplace=True)\n",
    "df_copy['Product'].replace(['KP281','KP481','KP781'],[0,1,2],inplace=True)\n"
   ]
  },
  {
   "cell_type": "code",
   "execution_count": null,
   "metadata": {},
   "outputs": [],
   "source": [
    "plt.figure(figsize=(15,6))\n",
    "sns.heatmap(df_copy.corr(),cmap='coolwarm',annot=True)\n",
    "plt.show()"
   ]
  },
  {
   "cell_type": "markdown",
   "metadata": {},
   "source": [
    "Observations:\n",
    "1. Treadmill purchased has high correlation with Education, income, usage, fitness and miles.\n",
    "2. Age is highly correlated to income which definitely seems reasonable. It is also correlated with Education and Marital Status which stands completely alright.\n",
    "3. Gender has some correlation to usage, income, fitness and miles.\n",
    "4. Education is correlated to age and miles. It is highly correlated to income. It is sufficiently correlated to usage and fitness.\n",
    "5. Marital Status has some correlation to income and age.\n",
    "6. Usage is extremely correlated to fitness and miles and has a higher correlation to income as well.\n",
    "7. Fitness has a great correlation to income."
   ]
  },
  {
   "cell_type": "markdown",
   "metadata": {},
   "source": [
    "More Observations and Possibilities:\n",
    "1. Product, fitness, usage and miles depict higher correlation among themselves which is expected.\n",
    "2. Age and education are indicators of income which affects the products bought. The more advanced the product, the more is the usage and miles resulting in more fitness."
   ]
  },
  {
   "cell_type": "markdown",
   "metadata": {},
   "source": [
    "# Univariate Analysis"
   ]
  },
  {
   "cell_type": "markdown",
   "metadata": {},
   "source": [
    "### Age"
   ]
  },
  {
   "cell_type": "code",
   "execution_count": null,
   "metadata": {},
   "outputs": [],
   "source": [
    "sns.kdeplot(x='Age',data=df)\n",
    "plt.show()"
   ]
  },
  {
   "cell_type": "code",
   "execution_count": null,
   "metadata": {},
   "outputs": [],
   "source": [
    "sns.boxplot(y='Age',data=df)\n",
    "plt.show()"
   ]
  },
  {
   "cell_type": "markdown",
   "metadata": {},
   "source": [
    "The above two plots show that we have ages ranging from 18 to 50. Most frequent age is 25."
   ]
  },
  {
   "cell_type": "markdown",
   "metadata": {},
   "source": [
    "### Gender"
   ]
  },
  {
   "cell_type": "code",
   "execution_count": null,
   "metadata": {},
   "outputs": [],
   "source": [
    "df['Gender'].value_counts()"
   ]
  },
  {
   "cell_type": "code",
   "execution_count": null,
   "metadata": {},
   "outputs": [],
   "source": [
    "sns.countplot(x='Gender',data=df)\n",
    "plt.show()"
   ]
  },
  {
   "cell_type": "code",
   "execution_count": null,
   "metadata": {},
   "outputs": [],
   "source": [
    "n_Male = df[df['Gender'] == 'Male'].shape[0]  # We are getting the number of datapoints in each category of treadmills\n",
    "n_Female = df[df['Gender'] == 'Female'].shape[0]\n",
    "data = [n_Male, n_Female]\n",
    "labels=['Male','Female']\n",
    "\n",
    "plt.pie(data,\n",
    "       labels=labels,\n",
    "       autopct='%.0f%%') # To show the portions in %ages\n",
    "\n",
    "plt.show()"
   ]
  },
  {
   "cell_type": "markdown",
   "metadata": {},
   "source": [
    "### Education "
   ]
  },
  {
   "cell_type": "code",
   "execution_count": null,
   "metadata": {},
   "outputs": [],
   "source": [
    "sns.boxplot(y='Education',data=df)\n",
    "plt.show()"
   ]
  },
  {
   "cell_type": "code",
   "execution_count": null,
   "metadata": {
    "colab": {
     "base_uri": "https://localhost:8080/"
    },
    "id": "bXDGZTBm0tyT",
    "outputId": "db5cf2ae-353c-4e46-d6f5-f11aebcf44e6"
   },
   "outputs": [],
   "source": [
    "df['Education'].unique()"
   ]
  },
  {
   "cell_type": "code",
   "execution_count": null,
   "metadata": {
    "colab": {
     "base_uri": "https://localhost:8080/"
    },
    "id": "XdOjRNSd2HrG",
    "outputId": "463c5c36-ea08-4df5-adf2-7cd28b10f70e"
   },
   "outputs": [],
   "source": [
    "df['Education'].value_counts()"
   ]
  },
  {
   "cell_type": "code",
   "execution_count": null,
   "metadata": {},
   "outputs": [],
   "source": [
    "sns.histplot(x='Education',data=df)\n",
    "plt.show()"
   ]
  },
  {
   "cell_type": "markdown",
   "metadata": {},
   "source": [
    "20 or more years of education are outliers.\n",
    "Maximum of our data lies between 14 to 16 years of education."
   ]
  },
  {
   "cell_type": "markdown",
   "metadata": {},
   "source": [
    "### Marital Status"
   ]
  },
  {
   "cell_type": "code",
   "execution_count": null,
   "metadata": {},
   "outputs": [],
   "source": [
    "df['MaritalStatus'].value_counts()"
   ]
  },
  {
   "cell_type": "code",
   "execution_count": null,
   "metadata": {},
   "outputs": [],
   "source": [
    "sns.countplot(x='MaritalStatus',data=df)\n",
    "plt.show()"
   ]
  },
  {
   "cell_type": "code",
   "execution_count": null,
   "metadata": {},
   "outputs": [],
   "source": [
    "n_Single = df[df['MaritalStatus'] == 'Single'].shape[0]  # We are getting the number of datapoints in each category of treadmills\n",
    "n_Married = df[df['MaritalStatus'] == 'Partnered'].shape[0] \n",
    "data = [n_Single, n_Married]\n",
    "labels=['Single','Partnered']\n",
    "\n",
    "plt.pie(data,\n",
    "       labels=labels,\n",
    "       autopct='%.0f%%') # To show the portions in %ages\n",
    "\n",
    "plt.show()"
   ]
  },
  {
   "cell_type": "markdown",
   "metadata": {},
   "source": [
    "### Usage"
   ]
  },
  {
   "cell_type": "code",
   "execution_count": null,
   "metadata": {
    "colab": {
     "base_uri": "https://localhost:8080/"
    },
    "id": "jQEm6b1w1XGG",
    "outputId": "26f1191d-3b78-4012-84bb-99102dc5c9b2"
   },
   "outputs": [],
   "source": [
    "df['Usage'].unique()"
   ]
  },
  {
   "cell_type": "code",
   "execution_count": null,
   "metadata": {},
   "outputs": [],
   "source": [
    "sns.histplot(x='Usage',bins=30,data=df)\n",
    "plt.show()"
   ]
  },
  {
   "cell_type": "code",
   "execution_count": null,
   "metadata": {},
   "outputs": [],
   "source": [
    "sns.boxplot(y='Usage',data=df)\n",
    "plt.show()"
   ]
  },
  {
   "cell_type": "markdown",
   "metadata": {},
   "source": [
    "Most people use treadmills 3 to 4 times a week.\n",
    "6 to 7 times of usage per week is rare."
   ]
  },
  {
   "cell_type": "markdown",
   "metadata": {},
   "source": [
    "### Fitness"
   ]
  },
  {
   "cell_type": "code",
   "execution_count": null,
   "metadata": {},
   "outputs": [],
   "source": [
    "sns.histplot(x='Fitness',bins=30,data=df)\n",
    "plt.show()"
   ]
  },
  {
   "cell_type": "code",
   "execution_count": null,
   "metadata": {},
   "outputs": [],
   "source": [
    "sns.boxplot(y='Fitness',data=df)\n",
    "plt.show()"
   ]
  },
  {
   "cell_type": "markdown",
   "metadata": {},
   "source": [
    "Most people have an average body shape. Very less people have poor body shape."
   ]
  },
  {
   "cell_type": "markdown",
   "metadata": {},
   "source": [
    "### Income"
   ]
  },
  {
   "cell_type": "code",
   "execution_count": null,
   "metadata": {},
   "outputs": [],
   "source": [
    "sns.kdeplot(x='Income',data=df)\n",
    "plt.show()"
   ]
  },
  {
   "cell_type": "code",
   "execution_count": null,
   "metadata": {},
   "outputs": [],
   "source": [
    "sns.boxplot(y='Income',data=df)\n",
    "plt.show()"
   ]
  },
  {
   "cell_type": "markdown",
   "metadata": {},
   "source": [
    "People mostly earn between 40k to 60k.\n",
    "People earning more than 80k are less."
   ]
  },
  {
   "cell_type": "markdown",
   "metadata": {},
   "source": [
    "### Miles"
   ]
  },
  {
   "cell_type": "code",
   "execution_count": null,
   "metadata": {},
   "outputs": [],
   "source": [
    "sns.kdeplot(x='Miles',data=df)\n",
    "plt.show()"
   ]
  },
  {
   "cell_type": "code",
   "execution_count": null,
   "metadata": {},
   "outputs": [],
   "source": [
    "sns.boxplot(y='Miles',data=df)\n",
    "plt.show()"
   ]
  },
  {
   "cell_type": "markdown",
   "metadata": {},
   "source": [
    "People mostly cover 60 to 120 miles per week.\n",
    "175 miles or more are rare."
   ]
  },
  {
   "cell_type": "markdown",
   "metadata": {},
   "source": [
    "# Marginal Probability"
   ]
  },
  {
   "cell_type": "code",
   "execution_count": null,
   "metadata": {
    "colab": {
     "base_uri": "https://localhost:8080/",
     "height": 406
    },
    "id": "TzxThngSo_tv",
    "outputId": "f3b223a8-c5b3-4eaa-8614-20ff60aae352"
   },
   "outputs": [],
   "source": [
    "n_KP281 = df[df['Product'] == 'KP281'].shape[0]  # We are getting the number of datapoints in each category of treadmills\n",
    "n_KP481 = df[df['Product'] == 'KP481'].shape[0]\n",
    "n_KP781 = df[df['Product'] == 'KP781'].shape[0]\n",
    "data = [n_KP281, n_KP481, n_KP781]\n",
    "labels=['KP281','KP481','KP781']\n",
    "\n",
    "plt.pie(data,\n",
    "       labels=labels,\n",
    "       autopct='%.2f%%') # To show the portions in %ages\n",
    "\n",
    "plt.show()\n",
    "\n",
    "# KP281 is most bought product overall\n",
    "# This is Marginal Probability:\n",
    "    # 44% customers bought KP281\n",
    "    # 33% customers bought KP481\n",
    "    # 22% customers bought KP781"
   ]
  },
  {
   "cell_type": "markdown",
   "metadata": {},
   "source": [
    "Marginal Probabilities of customers buying KP281,KP481,KP781 are 44%, 33%, 22% respectively.\n",
    "\n",
    "Recommendations:\n",
    "1. If a random customer comes in, chances of buying KP281 is the highest.\n",
    "2. We should suggest KP281 to a customer."
   ]
  },
  {
   "cell_type": "markdown",
   "metadata": {},
   "source": [
    "# Bivariate Analysis"
   ]
  },
  {
   "cell_type": "markdown",
   "metadata": {},
   "source": [
    "### Age and Product"
   ]
  },
  {
   "cell_type": "code",
   "execution_count": null,
   "metadata": {
    "colab": {
     "base_uri": "https://localhost:8080/",
     "height": 449
    },
    "id": "ZuNMCbP2HBKC",
    "outputId": "b8f31e16-1513-4096-850d-15a9518d6f6b"
   },
   "outputs": [],
   "source": [
    "sns.boxplot(x='Product',y='Age',data=df)\n",
    "plt.show()"
   ]
  },
  {
   "cell_type": "code",
   "execution_count": null,
   "metadata": {
    "colab": {
     "base_uri": "https://localhost:8080/"
    },
    "id": "cgGCVCCdmBRJ",
    "outputId": "db10c86f-94f6-4f2e-f2f5-a3036f323555"
   },
   "outputs": [],
   "source": [
    "df['Age'].unique()"
   ]
  },
  {
   "cell_type": "markdown",
   "metadata": {},
   "source": [
    "As there are many unique values of ages, it is better to divide these into different ranges to get better insights."
   ]
  },
  {
   "cell_type": "code",
   "execution_count": null,
   "metadata": {
    "id": "MF0f5DFJl5MK"
   },
   "outputs": [],
   "source": [
    "bins=[0,25,35,45,55]\n",
    "group=['Below 25','25-35','35-45','45 above']\n",
    "\n",
    "df['Age group']= pd.cut(df['Age'],bins,labels=group)\n"
   ]
  },
  {
   "cell_type": "code",
   "execution_count": null,
   "metadata": {
    "colab": {
     "base_uri": "https://localhost:8080/",
     "height": 449
    },
    "id": "VKgNeLBjnIkz",
    "outputId": "7aef1c48-f845-41e0-bf30-49c55d71ecba",
    "scrolled": true
   },
   "outputs": [],
   "source": [
    "sns.countplot(x='Age group',hue='Product',data=df)\n",
    "plt.show()"
   ]
  },
  {
   "cell_type": "markdown",
   "metadata": {},
   "source": [
    "### Marginal Probabilities of age groups and products "
   ]
  },
  {
   "cell_type": "code",
   "execution_count": null,
   "metadata": {},
   "outputs": [],
   "source": [
    "pd.crosstab(df[\"Age group\"], df[\"Product\"], normalize=True,margins=True)*100"
   ]
  },
  {
   "cell_type": "markdown",
   "metadata": {},
   "source": [
    "### Conditional Probabilty Of Product given Age group "
   ]
  },
  {
   "cell_type": "code",
   "execution_count": null,
   "metadata": {
    "colab": {
     "base_uri": "https://localhost:8080/",
     "height": 206
    },
    "id": "z2MVRFzURKeU",
    "outputId": "93aa2e43-abf2-4173-c278-c9c7c58ce548"
   },
   "outputs": [],
   "source": [
    "pd.crosstab(df[\"Age group\"], df[\"Product\"], normalize='index')*100"
   ]
  },
  {
   "cell_type": "markdown",
   "metadata": {},
   "source": [
    "Recommendation:\n",
    "1. We can see that in the age group of below 35 years, KP281 is the most popular.\n",
    "2. We should recommend KP281 to those below 35 years.\n",
    "3. Second popular is KP481, then KP781."
   ]
  },
  {
   "cell_type": "markdown",
   "metadata": {},
   "source": [
    "### Gender and Product"
   ]
  },
  {
   "cell_type": "code",
   "execution_count": null,
   "metadata": {
    "colab": {
     "base_uri": "https://localhost:8080/"
    },
    "id": "R58qGvE7MQHJ",
    "outputId": "4db85750-79e6-472e-a039-0c62cb76665b"
   },
   "outputs": [],
   "source": [
    "np.round((df['Gender'].value_counts()/len(df))*100,2)"
   ]
  },
  {
   "cell_type": "code",
   "execution_count": null,
   "metadata": {
    "colab": {
     "base_uri": "https://localhost:8080/",
     "height": 449
    },
    "id": "7thmjaB-JJWf",
    "outputId": "d3c8747c-507e-41e0-eee9-32624d52984c"
   },
   "outputs": [],
   "source": [
    "sns.countplot(x='Gender',hue='Product',data=df)\n",
    "plt.show()"
   ]
  },
  {
   "cell_type": "markdown",
   "metadata": {},
   "source": [
    "We can see that there is a significant difference in purchase of KP781 in males than females.\n",
    "\n",
    "Recommendations:\n",
    "1. Recommend KP781 to males as there is a high buying probability than females.\n",
    "2. Whereas KP281 has high buying probability in females as compared to males."
   ]
  },
  {
   "cell_type": "markdown",
   "metadata": {},
   "source": [
    "Conditional Probability:"
   ]
  },
  {
   "cell_type": "code",
   "execution_count": null,
   "metadata": {
    "colab": {
     "base_uri": "https://localhost:8080/",
     "height": 143
    },
    "id": "rEsO3cctRcUe",
    "outputId": "681fde40-4924-4125-af40-b31511c676ea"
   },
   "outputs": [],
   "source": [
    "pd.crosstab(df[\"Gender\"], df[\"Product\"], margins=True,normalize='index')*100"
   ]
  },
  {
   "cell_type": "markdown",
   "metadata": {},
   "source": [
    "Marginal Probability:"
   ]
  },
  {
   "cell_type": "code",
   "execution_count": null,
   "metadata": {},
   "outputs": [],
   "source": [
    "pd.crosstab(index=df['Gender'],columns=df['Product'],margins=True)"
   ]
  },
  {
   "cell_type": "code",
   "execution_count": null,
   "metadata": {},
   "outputs": [],
   "source": [
    "pd.crosstab(df[\"Gender\"], df[\"Product\"],margins=True,normalize=True)*100"
   ]
  },
  {
   "cell_type": "markdown",
   "metadata": {},
   "source": [
    "### Marital Status and Product"
   ]
  },
  {
   "cell_type": "code",
   "execution_count": null,
   "metadata": {
    "colab": {
     "base_uri": "https://localhost:8080/"
    },
    "id": "T1tq8ClsMjuu",
    "outputId": "a3dc78ee-c3b3-48e8-ef1f-c1aad17f9157"
   },
   "outputs": [],
   "source": [
    "np.round((df['MaritalStatus'].value_counts()/len(df))*100,2)"
   ]
  },
  {
   "cell_type": "code",
   "execution_count": null,
   "metadata": {
    "colab": {
     "base_uri": "https://localhost:8080/",
     "height": 452
    },
    "id": "SLUcTh6WLLIG",
    "outputId": "fc2c76f4-ef96-4085-e47a-995c689f1cbe"
   },
   "outputs": [],
   "source": [
    "sns.countplot(x='MaritalStatus',hue='Product',data=df)\n",
    "plt.xlabel('Marital Status')\n",
    "plt.show()\n",
    "\n",
    "# Married people prefer all the three products more than single people\n",
    "# We can focus on married people"
   ]
  },
  {
   "cell_type": "markdown",
   "metadata": {},
   "source": [
    "### Conditional Probabilty Of Product given Marital Status"
   ]
  },
  {
   "cell_type": "code",
   "execution_count": null,
   "metadata": {
    "colab": {
     "base_uri": "https://localhost:8080/",
     "height": 143
    },
    "id": "tM7H3IteR5Ps",
    "outputId": "6ff53461-02bd-47f1-db9f-7ece7b16be4f"
   },
   "outputs": [],
   "source": [
    "pd.crosstab(df[\"MaritalStatus\"], df[\"Product\"], normalize='index')"
   ]
  },
  {
   "cell_type": "markdown",
   "metadata": {},
   "source": [
    "### Marginal Probabilties Of marital status and product"
   ]
  },
  {
   "cell_type": "code",
   "execution_count": null,
   "metadata": {},
   "outputs": [],
   "source": [
    "pd.crosstab(df[\"MaritalStatus\"], df[\"Product\"],margins=True ,normalize=True)*100"
   ]
  },
  {
   "cell_type": "markdown",
   "metadata": {},
   "source": [
    "There is no significant difference in married and single people in all the three categories of treadmills. \n",
    "But KP281 is the most popular in both single and married people"
   ]
  },
  {
   "cell_type": "markdown",
   "metadata": {},
   "source": [
    "### Income and Product"
   ]
  },
  {
   "cell_type": "code",
   "execution_count": null,
   "metadata": {
    "colab": {
     "base_uri": "https://localhost:8080/",
     "height": 449
    },
    "id": "6_ZiqXOD0BMS",
    "outputId": "5cfc9828-b9bf-4cf7-c409-aad242b2cfd9"
   },
   "outputs": [],
   "source": [
    "sns.boxplot(y='Income',x='Product',data=df)\n",
    "plt.show()"
   ]
  },
  {
   "cell_type": "code",
   "execution_count": null,
   "metadata": {
    "id": "2zy6dyEOqI2Z"
   },
   "outputs": [],
   "source": [
    "bins=[0,40000,60000,80000,120000]\n",
    "group=['Below 40k','40k-60k','60k-80k','Above 80k']\n",
    "\n",
    "df['Income bins']= pd.cut(df['Income'],bins,labels=group)"
   ]
  },
  {
   "cell_type": "code",
   "execution_count": null,
   "metadata": {
    "colab": {
     "base_uri": "https://localhost:8080/",
     "height": 449
    },
    "id": "pMaPfpN3rbaT",
    "outputId": "66f163d5-f5bd-4ef8-ba2a-ee42a46dbb1a"
   },
   "outputs": [],
   "source": [
    "sns.countplot(x='Income bins',hue='Product',data=df)\n",
    "plt.show()"
   ]
  },
  {
   "cell_type": "markdown",
   "metadata": {},
   "source": [
    "### Marginal Probabilties Of Product and Income"
   ]
  },
  {
   "cell_type": "code",
   "execution_count": null,
   "metadata": {},
   "outputs": [],
   "source": [
    "pd.crosstab(df[\"Income bins\"], df[\"Product\"], normalize=True,margins=True)*100"
   ]
  },
  {
   "cell_type": "markdown",
   "metadata": {},
   "source": [
    "### Conditional Probabilty Of Product given Income"
   ]
  },
  {
   "cell_type": "code",
   "execution_count": null,
   "metadata": {
    "colab": {
     "base_uri": "https://localhost:8080/",
     "height": 206
    },
    "id": "wZABus6SSD9m",
    "outputId": "cc09aa85-75fa-4352-ec59-9803f18335e7"
   },
   "outputs": [],
   "source": [
    "pd.crosstab(df[\"Income bins\"], df[\"Product\"], normalize='index')*100"
   ]
  },
  {
   "cell_type": "markdown",
   "metadata": {},
   "source": [
    "As we can observe from the above charts and conditional probability table that,\n",
    "1. People whose income is below 40k prefer KP281 the most.\n",
    "2. People wo earn more than 80k prefer KP781.\n",
    "3. People whose income ranges from 40k to 80k prefer KP281 and KP481, there is not much difference in probabilites."
   ]
  },
  {
   "cell_type": "markdown",
   "metadata": {},
   "source": [
    "### Product and Fitness"
   ]
  },
  {
   "cell_type": "code",
   "execution_count": null,
   "metadata": {
    "colab": {
     "base_uri": "https://localhost:8080/",
     "height": 450
    },
    "id": "tDKDvXXysyHd",
    "outputId": "2c72eec4-1ced-47d0-f5fe-efb45f100e06"
   },
   "outputs": [],
   "source": [
    "sns.barplot(x='Product',y='Fitness',data=df)\n",
    "plt.show()"
   ]
  },
  {
   "cell_type": "code",
   "execution_count": null,
   "metadata": {
    "colab": {
     "base_uri": "https://localhost:8080/",
     "height": 449
    },
    "id": "nHwWzoawur3F",
    "outputId": "61068a2d-3c08-4d9a-aff5-593706fc8e7b"
   },
   "outputs": [],
   "source": [
    "sns.countplot(x='Fitness',hue='Product',data=df)\n",
    "plt.show()"
   ]
  },
  {
   "cell_type": "markdown",
   "metadata": {},
   "source": [
    "### Marginal Probabilties Of Product and Income"
   ]
  },
  {
   "cell_type": "code",
   "execution_count": null,
   "metadata": {},
   "outputs": [],
   "source": [
    "pd.crosstab(df[\"Fitness\"], df[\"Product\"], normalize=True,margins=True)*100"
   ]
  },
  {
   "cell_type": "markdown",
   "metadata": {},
   "source": [
    "### Conditional Probabilty Of Product given fitness"
   ]
  },
  {
   "cell_type": "code",
   "execution_count": null,
   "metadata": {
    "colab": {
     "base_uri": "https://localhost:8080/",
     "height": 237
    },
    "id": "FAQqTFWqSRJS",
    "outputId": "c4cfc42f-957f-42e5-81b0-7bbe278ecca8"
   },
   "outputs": [],
   "source": [
    "pd.crosstab(df[\"Fitness\"], df[\"Product\"], normalize='index')*100"
   ]
  },
  {
   "cell_type": "markdown",
   "metadata": {},
   "source": [
    "Observations:\n",
    "1. KP781 is the most popular in those with excellent body shape.\n",
    "2. KP281 is the most popular in those who have average body shape (3).\n",
    "\n",
    "Recommendations:\n",
    "1. We can recommend KP781 to those with excellent body shape and KP281 to those with average body shape."
   ]
  },
  {
   "cell_type": "markdown",
   "metadata": {},
   "source": [
    "### Usage and Product"
   ]
  },
  {
   "cell_type": "code",
   "execution_count": null,
   "metadata": {
    "colab": {
     "base_uri": "https://localhost:8080/",
     "height": 449
    },
    "id": "KVq5p89QvqnO",
    "outputId": "86f2b6c5-0de3-4437-9f59-a43f97087333"
   },
   "outputs": [],
   "source": [
    "sns.barplot(x='Product',y='Usage',data=df)\n",
    "plt.show()"
   ]
  },
  {
   "cell_type": "code",
   "execution_count": null,
   "metadata": {
    "colab": {
     "base_uri": "https://localhost:8080/",
     "height": 449
    },
    "id": "_pjWLUEgxpYW",
    "outputId": "ad8491a3-4099-45b3-afdf-37e48e3aa7df"
   },
   "outputs": [],
   "source": [
    "sns.countplot(x='Usage',hue='Product',data=df)\n",
    "plt.show()"
   ]
  },
  {
   "cell_type": "markdown",
   "metadata": {},
   "source": [
    "### Marginal Probabilties Of Product and fitness"
   ]
  },
  {
   "cell_type": "code",
   "execution_count": null,
   "metadata": {},
   "outputs": [],
   "source": [
    "pd.crosstab(df[\"Usage\"], df[\"Product\"], normalize=True,margins=True)*100"
   ]
  },
  {
   "cell_type": "markdown",
   "metadata": {},
   "source": [
    "### Conditional Probabilty Of Product given usage"
   ]
  },
  {
   "cell_type": "code",
   "execution_count": null,
   "metadata": {
    "colab": {
     "base_uri": "https://localhost:8080/",
     "height": 269
    },
    "id": "NhzuPR5ZScnl",
    "outputId": "f6fc90e6-85ee-4832-a266-6839490018f1"
   },
   "outputs": [],
   "source": [
    "pd.crosstab(df[\"Usage\"], df[\"Product\"], normalize='index')"
   ]
  },
  {
   "cell_type": "markdown",
   "metadata": {},
   "source": [
    "Observations:\n",
    "1. Those who use treadmills 5 times a week or more prefer KP781.\n",
    "2. Those who use treadmills 2 to 4 times a week prefer KP281."
   ]
  },
  {
   "cell_type": "markdown",
   "metadata": {},
   "source": [
    "### Miles and Product"
   ]
  },
  {
   "cell_type": "code",
   "execution_count": null,
   "metadata": {
    "colab": {
     "base_uri": "https://localhost:8080/",
     "height": 449
    },
    "id": "OM8a3_m00g1I",
    "outputId": "74d1f69d-1c56-427c-c6ec-5846f0b74977"
   },
   "outputs": [],
   "source": [
    "sns.boxplot(y='Miles',x='Product',data=df)\n",
    "plt.show()"
   ]
  },
  {
   "cell_type": "markdown",
   "metadata": {},
   "source": [
    "Miles and usage of treadmills are directly proportional to each other. If a person is using a treadmill more per week will \n",
    "obviously run more miles than others."
   ]
  },
  {
   "cell_type": "markdown",
   "metadata": {},
   "source": [
    "### Education and Product"
   ]
  },
  {
   "cell_type": "code",
   "execution_count": null,
   "metadata": {
    "id": "QJhJ4Y7jhus4"
   },
   "outputs": [],
   "source": [
    "bins=[0,14,18,22]\n",
    "group=['Less than 14','14-18','More than 18']\n",
    "\n",
    "df['Years of Education']= pd.cut(df['Education'],bins,labels=group)"
   ]
  },
  {
   "cell_type": "code",
   "execution_count": null,
   "metadata": {
    "colab": {
     "base_uri": "https://localhost:8080/",
     "height": 449
    },
    "id": "3lHy3RpO0yFD",
    "outputId": "30851528-767f-4613-be29-cbea1a3606e9"
   },
   "outputs": [],
   "source": [
    "sns.countplot(x='Years of Education',hue='Product',data=df)\n",
    "plt.show()"
   ]
  },
  {
   "cell_type": "code",
   "execution_count": null,
   "metadata": {
    "colab": {
     "base_uri": "https://localhost:8080/",
     "height": 449
    },
    "id": "T0JDK3t82csE",
    "outputId": "adf9d732-1f71-4358-e269-9978de555724"
   },
   "outputs": [],
   "source": [
    "sns.boxplot(x='Product',y='Education',data=df)\n",
    "plt.show()"
   ]
  },
  {
   "cell_type": "markdown",
   "metadata": {},
   "source": [
    "### Marginal Probabilities of Product and Education"
   ]
  },
  {
   "cell_type": "code",
   "execution_count": null,
   "metadata": {},
   "outputs": [],
   "source": [
    "pd.crosstab(df[\"Years of Education\"], df[\"Product\"], normalize=True,margins=True)*100"
   ]
  },
  {
   "cell_type": "markdown",
   "metadata": {},
   "source": [
    "### Conditional Probability of Product given Education"
   ]
  },
  {
   "cell_type": "code",
   "execution_count": null,
   "metadata": {
    "colab": {
     "base_uri": "https://localhost:8080/",
     "height": 175
    },
    "id": "heJu6BnTSxqT",
    "outputId": "a3cc8035-4cf3-43e7-c2c8-3129ddbeb208"
   },
   "outputs": [],
   "source": [
    "pd.crosstab(df[\"Years of Education\"], df[\"Product\"], normalize='index')*100"
   ]
  },
  {
   "cell_type": "markdown",
   "metadata": {},
   "source": [
    "Observatiosn:\n",
    "1. KP781 is more popular in highly educated people (18 years or more).\n",
    "2. KP281 and KP481 are popular in moderately educated people (less than 18 years)."
   ]
  },
  {
   "cell_type": "markdown",
   "metadata": {},
   "source": [
    "# Multi variate analysis"
   ]
  },
  {
   "cell_type": "markdown",
   "metadata": {},
   "source": [
    "### Effect of age and income on product"
   ]
  },
  {
   "cell_type": "code",
   "execution_count": null,
   "metadata": {},
   "outputs": [],
   "source": [
    "sns.scatterplot(x='Age', y='Income',data=df, hue = 'Product')\n",
    "plt.show()\n",
    "#Looks like KP781 is the most expensive model (very niche)"
   ]
  },
  {
   "cell_type": "markdown",
   "metadata": {},
   "source": [
    "Variance of income in lower ages is smaller as compared to variance in higher ages, called as heteroscadasticity."
   ]
  },
  {
   "cell_type": "markdown",
   "metadata": {},
   "source": [
    "# Plotting of Probabilities of each factor affecting the product"
   ]
  },
  {
   "cell_type": "code",
   "execution_count": null,
   "metadata": {},
   "outputs": [],
   "source": [
    "cat_cols = ['Gender','MaritalStatus','Usage','Fitness','Age group','Income bins','Years of Education']\n",
    "for i in cat_cols:\n",
    "    pd.crosstab(df[i], df[\"Product\"], normalize='index').plot(kind='bar',figsize=(10,4))\n",
    "    plt.xticks(rotation=0)\n",
    "    plt.ylabel('Proportion')"
   ]
  },
  {
   "cell_type": "markdown",
   "metadata": {},
   "source": [
    "Observations:\n",
    "\n",
    "1. Around 55% of women prefer KP281 and only 10% prefer KP781. While around 35% of men prefer KP781.\n",
    "2. People having education of more than 18 years prefer KP781. While those with less than 14 years of education prefer KP281.\n",
    "3. There is no significant difference in married and single people in all the three categories of treadmills. But KP281 is the most popular in both single and married people.\n",
    "4. Those who use treadmill 5 times or more prefer KP781. While those who use less than 4 prefer PK281.\n",
    "5. 95% of customers having fitness levels of 5 use KP781 and none of those having fitness level less than 3 use KP781.\n",
    "6. People who earn less than 40k prefer KP281 the most. While those who earn more than 80k prefer KP781."
   ]
  }
 ],
 "metadata": {
  "colab": {
   "provenance": []
  },
  "kernelspec": {
   "display_name": "Python 3 (ipykernel)",
   "language": "python",
   "name": "python3"
  },
  "language_info": {
   "codemirror_mode": {
    "name": "ipython",
    "version": 3
   },
   "file_extension": ".py",
   "mimetype": "text/x-python",
   "name": "python",
   "nbconvert_exporter": "python",
   "pygments_lexer": "ipython3",
   "version": "3.11.1"
  }
 },
 "nbformat": 4,
 "nbformat_minor": 1
}
